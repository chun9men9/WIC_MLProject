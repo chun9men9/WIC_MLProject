{
 "cells": [
  {
   "cell_type": "markdown",
   "metadata": {},
   "source": [
    "# Project_3: Linear Regressions\n",
    "## Author: Iman Singh\n",
    "\n",
    "## Date: 11/5/2017\n",
    "\n",
    "<p><a name=\"sections\"></a></p>\n",
    "\n",
    "\n",
    "## Sections\n",
    "\n",
    "- <a href=\"#numeric\">EDA of Numerics</a><br>\n",
    "- <a href=\"#linear1\">Linear Regression 1</a><br>\n",
    "- <a href=\"#categorical\">EDA of Categoricals</a><br>\n",
    "- <a href=\"#categorica_engineering\">Features Engineering of Select Categoricals</a><br>\n",
    "- <a href=\"#linear2\">Linear Regression 2</a><br>\n",
    "- <a href=\"#VIF1\">VIF Analysis of Linear Regression 2 Model</a><br>\n",
    "- <a href=\"#linear3\">Linear Regression 3</a><br>\n",
    "- <a href=\"#linear4\">Linear Regression 4</a><br>"
   ]
  },
  {
   "cell_type": "code",
   "execution_count": 30,
   "metadata": {
    "collapsed": false
   },
   "outputs": [],
   "source": [
    "#### Loading the packages to be used\n",
    "from __future__ import print_function \n",
    "from pandas.core import datetools\n",
    "import pandas as pd\n",
    "import numpy as np\n",
    "from scipy import stats\n",
    "\n",
    "from sklearn import linear_model\n",
    "from sklearn.metrics import mean_squared_error\n",
    "from sklearn.model_selection import train_test_split\n",
    "from sklearn import preprocessing\n",
    "from sklearn.linear_model import Ridge, Lasso, RidgeCV, ElasticNet, LassoCV, LassoLarsCV\n",
    "from sklearn.model_selection import cross_val_score\n",
    "\n",
    "import statsmodels.api as sm\n",
    "from  statsmodels.genmod import generalized_linear_model\n",
    "\n",
    "import matplotlib as mpl\n",
    "import matplotlib.pyplot as plt\n",
    "from mpl_toolkits.mplot3d import Axes3D\n",
    "%matplotlib inline\n",
    "\n",
    "import seaborn as sns\n",
    "\n",
    "from preprocess import impute, derived_vars, interact_vars, select_vars_train, select_vars_test"
   ]
  },
  {
   "cell_type": "code",
   "execution_count": 31,
   "metadata": {
    "collapsed": false
   },
   "outputs": [
    {
     "data": {
      "text/html": [
       "<div>\n",
       "<table border=\"1\" class=\"dataframe\">\n",
       "  <thead>\n",
       "    <tr style=\"text-align: right;\">\n",
       "      <th></th>\n",
       "      <th>Id</th>\n",
       "      <th>MSSubClass</th>\n",
       "      <th>MSZoning</th>\n",
       "      <th>LotFrontage</th>\n",
       "      <th>LotArea</th>\n",
       "      <th>Street</th>\n",
       "      <th>Alley</th>\n",
       "      <th>LotShape</th>\n",
       "      <th>LandContour</th>\n",
       "      <th>Utilities</th>\n",
       "      <th>...</th>\n",
       "      <th>PoolArea</th>\n",
       "      <th>PoolQC</th>\n",
       "      <th>Fence</th>\n",
       "      <th>MiscFeature</th>\n",
       "      <th>MiscVal</th>\n",
       "      <th>MoSold</th>\n",
       "      <th>YrSold</th>\n",
       "      <th>SaleType</th>\n",
       "      <th>SaleCondition</th>\n",
       "      <th>SalePrice</th>\n",
       "    </tr>\n",
       "  </thead>\n",
       "  <tbody>\n",
       "    <tr>\n",
       "      <th>0</th>\n",
       "      <td>1</td>\n",
       "      <td>60</td>\n",
       "      <td>RL</td>\n",
       "      <td>65.0</td>\n",
       "      <td>8450</td>\n",
       "      <td>Pave</td>\n",
       "      <td>NaN</td>\n",
       "      <td>Reg</td>\n",
       "      <td>Lvl</td>\n",
       "      <td>AllPub</td>\n",
       "      <td>...</td>\n",
       "      <td>0</td>\n",
       "      <td>NaN</td>\n",
       "      <td>NaN</td>\n",
       "      <td>NaN</td>\n",
       "      <td>0</td>\n",
       "      <td>2</td>\n",
       "      <td>2008</td>\n",
       "      <td>WD</td>\n",
       "      <td>Normal</td>\n",
       "      <td>208500</td>\n",
       "    </tr>\n",
       "    <tr>\n",
       "      <th>1</th>\n",
       "      <td>2</td>\n",
       "      <td>20</td>\n",
       "      <td>RL</td>\n",
       "      <td>80.0</td>\n",
       "      <td>9600</td>\n",
       "      <td>Pave</td>\n",
       "      <td>NaN</td>\n",
       "      <td>Reg</td>\n",
       "      <td>Lvl</td>\n",
       "      <td>AllPub</td>\n",
       "      <td>...</td>\n",
       "      <td>0</td>\n",
       "      <td>NaN</td>\n",
       "      <td>NaN</td>\n",
       "      <td>NaN</td>\n",
       "      <td>0</td>\n",
       "      <td>5</td>\n",
       "      <td>2007</td>\n",
       "      <td>WD</td>\n",
       "      <td>Normal</td>\n",
       "      <td>181500</td>\n",
       "    </tr>\n",
       "    <tr>\n",
       "      <th>2</th>\n",
       "      <td>3</td>\n",
       "      <td>60</td>\n",
       "      <td>RL</td>\n",
       "      <td>68.0</td>\n",
       "      <td>11250</td>\n",
       "      <td>Pave</td>\n",
       "      <td>NaN</td>\n",
       "      <td>IR1</td>\n",
       "      <td>Lvl</td>\n",
       "      <td>AllPub</td>\n",
       "      <td>...</td>\n",
       "      <td>0</td>\n",
       "      <td>NaN</td>\n",
       "      <td>NaN</td>\n",
       "      <td>NaN</td>\n",
       "      <td>0</td>\n",
       "      <td>9</td>\n",
       "      <td>2008</td>\n",
       "      <td>WD</td>\n",
       "      <td>Normal</td>\n",
       "      <td>223500</td>\n",
       "    </tr>\n",
       "    <tr>\n",
       "      <th>3</th>\n",
       "      <td>4</td>\n",
       "      <td>70</td>\n",
       "      <td>RL</td>\n",
       "      <td>60.0</td>\n",
       "      <td>9550</td>\n",
       "      <td>Pave</td>\n",
       "      <td>NaN</td>\n",
       "      <td>IR1</td>\n",
       "      <td>Lvl</td>\n",
       "      <td>AllPub</td>\n",
       "      <td>...</td>\n",
       "      <td>0</td>\n",
       "      <td>NaN</td>\n",
       "      <td>NaN</td>\n",
       "      <td>NaN</td>\n",
       "      <td>0</td>\n",
       "      <td>2</td>\n",
       "      <td>2006</td>\n",
       "      <td>WD</td>\n",
       "      <td>Abnorml</td>\n",
       "      <td>140000</td>\n",
       "    </tr>\n",
       "    <tr>\n",
       "      <th>4</th>\n",
       "      <td>5</td>\n",
       "      <td>60</td>\n",
       "      <td>RL</td>\n",
       "      <td>84.0</td>\n",
       "      <td>14260</td>\n",
       "      <td>Pave</td>\n",
       "      <td>NaN</td>\n",
       "      <td>IR1</td>\n",
       "      <td>Lvl</td>\n",
       "      <td>AllPub</td>\n",
       "      <td>...</td>\n",
       "      <td>0</td>\n",
       "      <td>NaN</td>\n",
       "      <td>NaN</td>\n",
       "      <td>NaN</td>\n",
       "      <td>0</td>\n",
       "      <td>12</td>\n",
       "      <td>2008</td>\n",
       "      <td>WD</td>\n",
       "      <td>Normal</td>\n",
       "      <td>250000</td>\n",
       "    </tr>\n",
       "  </tbody>\n",
       "</table>\n",
       "<p>5 rows × 81 columns</p>\n",
       "</div>"
      ],
      "text/plain": [
       "   Id  MSSubClass MSZoning  LotFrontage  LotArea Street Alley LotShape  \\\n",
       "0   1          60       RL         65.0     8450   Pave   NaN      Reg   \n",
       "1   2          20       RL         80.0     9600   Pave   NaN      Reg   \n",
       "2   3          60       RL         68.0    11250   Pave   NaN      IR1   \n",
       "3   4          70       RL         60.0     9550   Pave   NaN      IR1   \n",
       "4   5          60       RL         84.0    14260   Pave   NaN      IR1   \n",
       "\n",
       "  LandContour Utilities    ...     PoolArea PoolQC Fence MiscFeature MiscVal  \\\n",
       "0         Lvl    AllPub    ...            0    NaN   NaN         NaN       0   \n",
       "1         Lvl    AllPub    ...            0    NaN   NaN         NaN       0   \n",
       "2         Lvl    AllPub    ...            0    NaN   NaN         NaN       0   \n",
       "3         Lvl    AllPub    ...            0    NaN   NaN         NaN       0   \n",
       "4         Lvl    AllPub    ...            0    NaN   NaN         NaN       0   \n",
       "\n",
       "  MoSold YrSold  SaleType  SaleCondition  SalePrice  \n",
       "0      2   2008        WD         Normal     208500  \n",
       "1      5   2007        WD         Normal     181500  \n",
       "2      9   2008        WD         Normal     223500  \n",
       "3      2   2006        WD        Abnorml     140000  \n",
       "4     12   2008        WD         Normal     250000  \n",
       "\n",
       "[5 rows x 81 columns]"
      ]
     },
     "execution_count": 31,
     "metadata": {},
     "output_type": "execute_result"
    }
   ],
   "source": [
    "#read in csv file and create data frame\n",
    "train_df = pd.read_csv('train.csv')\n",
    "test_df = pd.read_csv('test.csv')\n",
    "\n",
    "train_df.head()"
   ]
  },
  {
   "cell_type": "code",
   "execution_count": 32,
   "metadata": {
    "collapsed": false
   },
   "outputs": [],
   "source": [
    "#impute missing variables\n",
    "train_df_imputed = impute(train_df)\n",
    "test_df_imputed = impute(test_df)"
   ]
  },
  {
   "cell_type": "code",
   "execution_count": 33,
   "metadata": {
    "collapsed": false
   },
   "outputs": [
    {
     "data": {
      "text/html": [
       "<div>\n",
       "<table border=\"1\" class=\"dataframe\">\n",
       "  <thead>\n",
       "    <tr style=\"text-align: right;\">\n",
       "      <th></th>\n",
       "      <th>Id</th>\n",
       "      <th>MSSubClass</th>\n",
       "      <th>MSZoning</th>\n",
       "      <th>LotFrontage</th>\n",
       "      <th>LotArea</th>\n",
       "      <th>Street</th>\n",
       "      <th>Alley</th>\n",
       "      <th>LotShape</th>\n",
       "      <th>LandContour</th>\n",
       "      <th>Utilities</th>\n",
       "      <th>...</th>\n",
       "      <th>MiscVal</th>\n",
       "      <th>MoSold</th>\n",
       "      <th>YrSold</th>\n",
       "      <th>SaleType</th>\n",
       "      <th>SaleCondition</th>\n",
       "      <th>SalePrice</th>\n",
       "      <th>TotalSF</th>\n",
       "      <th>TotalFinishedSF</th>\n",
       "      <th>HighQualFinishedSF</th>\n",
       "      <th>TotalBaths</th>\n",
       "    </tr>\n",
       "  </thead>\n",
       "  <tbody>\n",
       "    <tr>\n",
       "      <th>0</th>\n",
       "      <td>1</td>\n",
       "      <td>60</td>\n",
       "      <td>RL</td>\n",
       "      <td>65.0</td>\n",
       "      <td>8450</td>\n",
       "      <td>Pave</td>\n",
       "      <td>None</td>\n",
       "      <td>Reg</td>\n",
       "      <td>Lvl</td>\n",
       "      <td>AllPub</td>\n",
       "      <td>...</td>\n",
       "      <td>0</td>\n",
       "      <td>2</td>\n",
       "      <td>2008</td>\n",
       "      <td>WD</td>\n",
       "      <td>Normal</td>\n",
       "      <td>208500</td>\n",
       "      <td>2566</td>\n",
       "      <td>2416</td>\n",
       "      <td>2566</td>\n",
       "      <td>3.5</td>\n",
       "    </tr>\n",
       "    <tr>\n",
       "      <th>1</th>\n",
       "      <td>2</td>\n",
       "      <td>20</td>\n",
       "      <td>RL</td>\n",
       "      <td>80.0</td>\n",
       "      <td>9600</td>\n",
       "      <td>Pave</td>\n",
       "      <td>None</td>\n",
       "      <td>Reg</td>\n",
       "      <td>Lvl</td>\n",
       "      <td>AllPub</td>\n",
       "      <td>...</td>\n",
       "      <td>0</td>\n",
       "      <td>5</td>\n",
       "      <td>2007</td>\n",
       "      <td>WD</td>\n",
       "      <td>Normal</td>\n",
       "      <td>181500</td>\n",
       "      <td>2524</td>\n",
       "      <td>2240</td>\n",
       "      <td>2524</td>\n",
       "      <td>2.5</td>\n",
       "    </tr>\n",
       "    <tr>\n",
       "      <th>2</th>\n",
       "      <td>3</td>\n",
       "      <td>60</td>\n",
       "      <td>RL</td>\n",
       "      <td>68.0</td>\n",
       "      <td>11250</td>\n",
       "      <td>Pave</td>\n",
       "      <td>None</td>\n",
       "      <td>IR1</td>\n",
       "      <td>Lvl</td>\n",
       "      <td>AllPub</td>\n",
       "      <td>...</td>\n",
       "      <td>0</td>\n",
       "      <td>9</td>\n",
       "      <td>2008</td>\n",
       "      <td>WD</td>\n",
       "      <td>Normal</td>\n",
       "      <td>223500</td>\n",
       "      <td>2706</td>\n",
       "      <td>2272</td>\n",
       "      <td>2706</td>\n",
       "      <td>3.5</td>\n",
       "    </tr>\n",
       "    <tr>\n",
       "      <th>3</th>\n",
       "      <td>4</td>\n",
       "      <td>70</td>\n",
       "      <td>RL</td>\n",
       "      <td>60.0</td>\n",
       "      <td>9550</td>\n",
       "      <td>Pave</td>\n",
       "      <td>None</td>\n",
       "      <td>IR1</td>\n",
       "      <td>Lvl</td>\n",
       "      <td>AllPub</td>\n",
       "      <td>...</td>\n",
       "      <td>0</td>\n",
       "      <td>2</td>\n",
       "      <td>2006</td>\n",
       "      <td>WD</td>\n",
       "      <td>Abnorml</td>\n",
       "      <td>140000</td>\n",
       "      <td>2473</td>\n",
       "      <td>1933</td>\n",
       "      <td>2473</td>\n",
       "      <td>2.0</td>\n",
       "    </tr>\n",
       "    <tr>\n",
       "      <th>4</th>\n",
       "      <td>5</td>\n",
       "      <td>60</td>\n",
       "      <td>RL</td>\n",
       "      <td>84.0</td>\n",
       "      <td>14260</td>\n",
       "      <td>Pave</td>\n",
       "      <td>None</td>\n",
       "      <td>IR1</td>\n",
       "      <td>Lvl</td>\n",
       "      <td>AllPub</td>\n",
       "      <td>...</td>\n",
       "      <td>0</td>\n",
       "      <td>12</td>\n",
       "      <td>2008</td>\n",
       "      <td>WD</td>\n",
       "      <td>Normal</td>\n",
       "      <td>250000</td>\n",
       "      <td>3343</td>\n",
       "      <td>2853</td>\n",
       "      <td>3343</td>\n",
       "      <td>3.5</td>\n",
       "    </tr>\n",
       "  </tbody>\n",
       "</table>\n",
       "<p>5 rows × 85 columns</p>\n",
       "</div>"
      ],
      "text/plain": [
       "   Id MSSubClass MSZoning  LotFrontage  LotArea Street Alley LotShape  \\\n",
       "0   1         60       RL         65.0     8450   Pave  None      Reg   \n",
       "1   2         20       RL         80.0     9600   Pave  None      Reg   \n",
       "2   3         60       RL         68.0    11250   Pave  None      IR1   \n",
       "3   4         70       RL         60.0     9550   Pave  None      IR1   \n",
       "4   5         60       RL         84.0    14260   Pave  None      IR1   \n",
       "\n",
       "  LandContour Utilities     ...     MiscVal MoSold YrSold SaleType  \\\n",
       "0         Lvl    AllPub     ...           0      2   2008       WD   \n",
       "1         Lvl    AllPub     ...           0      5   2007       WD   \n",
       "2         Lvl    AllPub     ...           0      9   2008       WD   \n",
       "3         Lvl    AllPub     ...           0      2   2006       WD   \n",
       "4         Lvl    AllPub     ...           0     12   2008       WD   \n",
       "\n",
       "  SaleCondition SalePrice TotalSF  TotalFinishedSF HighQualFinishedSF  \\\n",
       "0        Normal    208500    2566             2416               2566   \n",
       "1        Normal    181500    2524             2240               2524   \n",
       "2        Normal    223500    2706             2272               2706   \n",
       "3       Abnorml    140000    2473             1933               2473   \n",
       "4        Normal    250000    3343             2853               3343   \n",
       "\n",
       "   TotalBaths  \n",
       "0         3.5  \n",
       "1         2.5  \n",
       "2         3.5  \n",
       "3         2.0  \n",
       "4         3.5  \n",
       "\n",
       "[5 rows x 85 columns]"
      ]
     },
     "execution_count": 33,
     "metadata": {},
     "output_type": "execute_result"
    }
   ],
   "source": [
    "#add derived variables\n",
    "train_df_derived = derived_vars(train_df_imputed)\n",
    "test_df_derived = derived_vars(test_df_imputed)\n",
    "\n",
    "train_df_derived.head()"
   ]
  },
  {
   "cell_type": "code",
   "execution_count": 34,
   "metadata": {
    "collapsed": false
   },
   "outputs": [
    {
     "data": {
      "text/html": [
       "<div>\n",
       "<table border=\"1\" class=\"dataframe\">\n",
       "  <thead>\n",
       "    <tr style=\"text-align: right;\">\n",
       "      <th></th>\n",
       "      <th>Id</th>\n",
       "      <th>MSSubClass</th>\n",
       "      <th>MSZoning</th>\n",
       "      <th>LotFrontage</th>\n",
       "      <th>LotArea</th>\n",
       "      <th>Street</th>\n",
       "      <th>Alley</th>\n",
       "      <th>LotShape</th>\n",
       "      <th>LandContour</th>\n",
       "      <th>Utilities</th>\n",
       "      <th>...</th>\n",
       "      <th>TotalBaths * TotalSF</th>\n",
       "      <th>OverallQual + OverallCond</th>\n",
       "      <th>BsmtQual + BsmtCond</th>\n",
       "      <th>GarageQual + GarageCond</th>\n",
       "      <th>ExterQual + ExterCond</th>\n",
       "      <th>Heating + HeatingQC</th>\n",
       "      <th>SaleType + SaleCondition</th>\n",
       "      <th>Neighborhood + BldgType + HouseStyle</th>\n",
       "      <th>Neighborhood + Condition1 + Condition2</th>\n",
       "      <th>Neighborhood + OverallQual + OverallCond</th>\n",
       "    </tr>\n",
       "  </thead>\n",
       "  <tbody>\n",
       "    <tr>\n",
       "      <th>0</th>\n",
       "      <td>1</td>\n",
       "      <td>60</td>\n",
       "      <td>RL</td>\n",
       "      <td>65.0</td>\n",
       "      <td>8450</td>\n",
       "      <td>Pave</td>\n",
       "      <td>None</td>\n",
       "      <td>Reg</td>\n",
       "      <td>Lvl</td>\n",
       "      <td>AllPub</td>\n",
       "      <td>...</td>\n",
       "      <td>8981.0</td>\n",
       "      <td>7+5</td>\n",
       "      <td>Gd+TA</td>\n",
       "      <td>TA+TA</td>\n",
       "      <td>Gd+TA</td>\n",
       "      <td>GasA+Ex</td>\n",
       "      <td>WD+Normal</td>\n",
       "      <td>CollgCr+1Fam+2Story</td>\n",
       "      <td>CollgCr+Norm+Norm</td>\n",
       "      <td>CollgCr7+5</td>\n",
       "    </tr>\n",
       "    <tr>\n",
       "      <th>1</th>\n",
       "      <td>2</td>\n",
       "      <td>20</td>\n",
       "      <td>RL</td>\n",
       "      <td>80.0</td>\n",
       "      <td>9600</td>\n",
       "      <td>Pave</td>\n",
       "      <td>None</td>\n",
       "      <td>Reg</td>\n",
       "      <td>Lvl</td>\n",
       "      <td>AllPub</td>\n",
       "      <td>...</td>\n",
       "      <td>6310.0</td>\n",
       "      <td>6+8</td>\n",
       "      <td>Gd+TA</td>\n",
       "      <td>TA+TA</td>\n",
       "      <td>TA+TA</td>\n",
       "      <td>GasA+Ex</td>\n",
       "      <td>WD+Normal</td>\n",
       "      <td>Veenker+1Fam+1Story</td>\n",
       "      <td>Veenker+Feedr+Norm</td>\n",
       "      <td>Veenker6+8</td>\n",
       "    </tr>\n",
       "    <tr>\n",
       "      <th>2</th>\n",
       "      <td>3</td>\n",
       "      <td>60</td>\n",
       "      <td>RL</td>\n",
       "      <td>68.0</td>\n",
       "      <td>11250</td>\n",
       "      <td>Pave</td>\n",
       "      <td>None</td>\n",
       "      <td>IR1</td>\n",
       "      <td>Lvl</td>\n",
       "      <td>AllPub</td>\n",
       "      <td>...</td>\n",
       "      <td>9471.0</td>\n",
       "      <td>7+5</td>\n",
       "      <td>Gd+TA</td>\n",
       "      <td>TA+TA</td>\n",
       "      <td>Gd+TA</td>\n",
       "      <td>GasA+Ex</td>\n",
       "      <td>WD+Normal</td>\n",
       "      <td>CollgCr+1Fam+2Story</td>\n",
       "      <td>CollgCr+Norm+Norm</td>\n",
       "      <td>CollgCr7+5</td>\n",
       "    </tr>\n",
       "    <tr>\n",
       "      <th>3</th>\n",
       "      <td>4</td>\n",
       "      <td>70</td>\n",
       "      <td>RL</td>\n",
       "      <td>60.0</td>\n",
       "      <td>9550</td>\n",
       "      <td>Pave</td>\n",
       "      <td>None</td>\n",
       "      <td>IR1</td>\n",
       "      <td>Lvl</td>\n",
       "      <td>AllPub</td>\n",
       "      <td>...</td>\n",
       "      <td>4946.0</td>\n",
       "      <td>7+5</td>\n",
       "      <td>TA+Gd</td>\n",
       "      <td>TA+TA</td>\n",
       "      <td>TA+TA</td>\n",
       "      <td>GasA+Gd</td>\n",
       "      <td>WD+Abnorml</td>\n",
       "      <td>Crawfor+1Fam+2Story</td>\n",
       "      <td>Crawfor+Norm+Norm</td>\n",
       "      <td>Crawfor7+5</td>\n",
       "    </tr>\n",
       "    <tr>\n",
       "      <th>4</th>\n",
       "      <td>5</td>\n",
       "      <td>60</td>\n",
       "      <td>RL</td>\n",
       "      <td>84.0</td>\n",
       "      <td>14260</td>\n",
       "      <td>Pave</td>\n",
       "      <td>None</td>\n",
       "      <td>IR1</td>\n",
       "      <td>Lvl</td>\n",
       "      <td>AllPub</td>\n",
       "      <td>...</td>\n",
       "      <td>11700.5</td>\n",
       "      <td>8+5</td>\n",
       "      <td>Gd+TA</td>\n",
       "      <td>TA+TA</td>\n",
       "      <td>Gd+TA</td>\n",
       "      <td>GasA+Ex</td>\n",
       "      <td>WD+Normal</td>\n",
       "      <td>NoRidge+1Fam+2Story</td>\n",
       "      <td>NoRidge+Norm+Norm</td>\n",
       "      <td>NoRidge8+5</td>\n",
       "    </tr>\n",
       "  </tbody>\n",
       "</table>\n",
       "<p>5 rows × 97 columns</p>\n",
       "</div>"
      ],
      "text/plain": [
       "   Id MSSubClass MSZoning  LotFrontage  LotArea Street Alley LotShape  \\\n",
       "0   1         60       RL         65.0     8450   Pave  None      Reg   \n",
       "1   2         20       RL         80.0     9600   Pave  None      Reg   \n",
       "2   3         60       RL         68.0    11250   Pave  None      IR1   \n",
       "3   4         70       RL         60.0     9550   Pave  None      IR1   \n",
       "4   5         60       RL         84.0    14260   Pave  None      IR1   \n",
       "\n",
       "  LandContour Utilities                    ...                     \\\n",
       "0         Lvl    AllPub                    ...                      \n",
       "1         Lvl    AllPub                    ...                      \n",
       "2         Lvl    AllPub                    ...                      \n",
       "3         Lvl    AllPub                    ...                      \n",
       "4         Lvl    AllPub                    ...                      \n",
       "\n",
       "  TotalBaths * TotalSF OverallQual + OverallCond BsmtQual + BsmtCond  \\\n",
       "0               8981.0                       7+5               Gd+TA   \n",
       "1               6310.0                       6+8               Gd+TA   \n",
       "2               9471.0                       7+5               Gd+TA   \n",
       "3               4946.0                       7+5               TA+Gd   \n",
       "4              11700.5                       8+5               Gd+TA   \n",
       "\n",
       "  GarageQual + GarageCond ExterQual + ExterCond Heating + HeatingQC  \\\n",
       "0                   TA+TA                 Gd+TA             GasA+Ex   \n",
       "1                   TA+TA                 TA+TA             GasA+Ex   \n",
       "2                   TA+TA                 Gd+TA             GasA+Ex   \n",
       "3                   TA+TA                 TA+TA             GasA+Gd   \n",
       "4                   TA+TA                 Gd+TA             GasA+Ex   \n",
       "\n",
       "  SaleType + SaleCondition  Neighborhood + BldgType + HouseStyle  \\\n",
       "0                WD+Normal                   CollgCr+1Fam+2Story   \n",
       "1                WD+Normal                   Veenker+1Fam+1Story   \n",
       "2                WD+Normal                   CollgCr+1Fam+2Story   \n",
       "3               WD+Abnorml                   Crawfor+1Fam+2Story   \n",
       "4                WD+Normal                   NoRidge+1Fam+2Story   \n",
       "\n",
       "  Neighborhood + Condition1 + Condition2  \\\n",
       "0                      CollgCr+Norm+Norm   \n",
       "1                     Veenker+Feedr+Norm   \n",
       "2                      CollgCr+Norm+Norm   \n",
       "3                      Crawfor+Norm+Norm   \n",
       "4                      NoRidge+Norm+Norm   \n",
       "\n",
       "   Neighborhood + OverallQual + OverallCond  \n",
       "0                                CollgCr7+5  \n",
       "1                                Veenker6+8  \n",
       "2                                CollgCr7+5  \n",
       "3                                Crawfor7+5  \n",
       "4                                NoRidge8+5  \n",
       "\n",
       "[5 rows x 97 columns]"
      ]
     },
     "execution_count": 34,
     "metadata": {},
     "output_type": "execute_result"
    }
   ],
   "source": [
    "#add interactions\n",
    "train_df_interactions = interact_vars(train_df_derived)\n",
    "test_df_interactions = interact_vars(test_df_derived)\n",
    "\n",
    "train_df_interactions.head()"
   ]
  },
  {
   "cell_type": "code",
   "execution_count": 6,
   "metadata": {
    "collapsed": true
   },
   "outputs": [],
   "source": [
    "train_df_interactions.to_csv('train_data_interactions3.csv', index = False, header = True)\n",
    "test_df_interactions.to_csv('test_data_interactions3.csv', index = False, header = True)"
   ]
  },
  {
   "cell_type": "code",
   "execution_count": 7,
   "metadata": {
    "collapsed": true
   },
   "outputs": [],
   "source": [
    "# Save the 'Id' column\n",
    "train_ID = train_df_interactions['Id']\n",
    "test_ID = test_df_interactions['Id']"
   ]
  },
  {
   "cell_type": "code",
   "execution_count": 35,
   "metadata": {
    "collapsed": false
   },
   "outputs": [],
   "source": [
    "y_train = train_df_interactions['SalePrice']\n",
    "y_log = np.log1p(y_train)\n",
    "X_train = train_df_interactions.drop('SalePrice', axis=1)\n",
    "X_test = test_df_interactions.copy()"
   ]
  },
  {
   "cell_type": "code",
   "execution_count": 36,
   "metadata": {
    "collapsed": false
   },
   "outputs": [
    {
     "name": "stdout",
     "output_type": "stream",
     "text": [
      "(1460, 96)\n",
      "(1459, 96)\n"
     ]
    }
   ],
   "source": [
    "print(X_train.shape)\n",
    "print(X_test.shape)"
   ]
  },
  {
   "cell_type": "code",
   "execution_count": 37,
   "metadata": {
    "collapsed": false,
    "scrolled": true
   },
   "outputs": [
    {
     "data": {
      "text/plain": [
       "(2919, 96)"
      ]
     },
     "execution_count": 37,
     "metadata": {},
     "output_type": "execute_result"
    }
   ],
   "source": [
    "all_data = pd.concat([X_train, X_test])\n",
    "all_data.shape"
   ]
  },
  {
   "cell_type": "code",
   "execution_count": 12,
   "metadata": {
    "collapsed": true
   },
   "outputs": [],
   "source": [
    "# Separate out interaction column names\n",
    "filter_col = ['BsmtQual + BsmtCond', 'ExterQual + ExterCond', 'GarageQual + GarageCond', 'Heating + HeatingQC',\n",
    "              'HighQualFinishedSF', 'OverallQual * TotalBaths', 'OverallQual * TotalSF',\n",
    "              'OverallQual + OverallCond', 'SaleType + SaleCondition', 'TotalBaths * TotalSF',\n",
    "              'TotalFinishedSF', 'TotalSF', 'Neighborhood + BldgType + HouseStyle', \n",
    "              'Neighborhood + Condition1 + Condition2', 'Neighborhood + OverallQual + OverallCond' ]\n",
    "\n",
    "#Separate out numeric column names\n",
    "num_col = ['HighQualFinishedSF','OverallQual * TotalBaths', 'OverallQual * TotalSF', 'TotalBaths * TotalSF',\n",
    "           'TotalFinishedSF', 'TotalSF']\n",
    "\n",
    "#Separate out categorical column names\n",
    "cat_col = ['BsmtQual + BsmtCond', 'ExterQual + ExterCond', 'GarageQual + GarageCond', 'Heating + HeatingQC',\n",
    "           'OverallQual + OverallCond', 'SaleType + SaleCondition', 'Neighborhood + BldgType + HouseStyle',\n",
    "           'Neighborhood + Condition1 + Condition2', 'Neighborhood + OverallQual + OverallCond' ]"
   ]
  },
  {
   "cell_type": "markdown",
   "metadata": {},
   "source": [
    "# Skewness"
   ]
  },
  {
   "cell_type": "code",
   "execution_count": null,
   "metadata": {
    "collapsed": true
   },
   "outputs": [],
   "source": []
  },
  {
   "cell_type": "markdown",
   "metadata": {},
   "source": [
    "# Dummifying Variables"
   ]
  },
  {
   "cell_type": "code",
   "execution_count": 13,
   "metadata": {
    "collapsed": false
   },
   "outputs": [
    {
     "data": {
      "text/html": [
       "<div>\n",
       "<table border=\"1\" class=\"dataframe\">\n",
       "  <thead>\n",
       "    <tr style=\"text-align: right;\">\n",
       "      <th></th>\n",
       "      <th>Id</th>\n",
       "      <th>LotFrontage</th>\n",
       "      <th>LotArea</th>\n",
       "      <th>OverallQual</th>\n",
       "      <th>YearBuilt</th>\n",
       "      <th>YearRemodAdd</th>\n",
       "      <th>MasVnrArea</th>\n",
       "      <th>BsmtFinSF1</th>\n",
       "      <th>BsmtFinSF2</th>\n",
       "      <th>BsmtUnfSF</th>\n",
       "      <th>...</th>\n",
       "      <th>Neighborhood + OverallQual + OverallCond_Veenker7+4</th>\n",
       "      <th>Neighborhood + OverallQual + OverallCond_Veenker7+5</th>\n",
       "      <th>Neighborhood + OverallQual + OverallCond_Veenker7+6</th>\n",
       "      <th>Neighborhood + OverallQual + OverallCond_Veenker7+7</th>\n",
       "      <th>Neighborhood + OverallQual + OverallCond_Veenker8+5</th>\n",
       "      <th>Neighborhood + OverallQual + OverallCond_Veenker8+8</th>\n",
       "      <th>Neighborhood + OverallQual + OverallCond_Veenker8+9</th>\n",
       "      <th>Neighborhood + OverallQual + OverallCond_Veenker9+3</th>\n",
       "      <th>Neighborhood + OverallQual + OverallCond_Veenker9+5</th>\n",
       "      <th>Neighborhood + OverallQual + OverallCond_nan</th>\n",
       "    </tr>\n",
       "  </thead>\n",
       "  <tbody>\n",
       "    <tr>\n",
       "      <th>0</th>\n",
       "      <td>1</td>\n",
       "      <td>65.0</td>\n",
       "      <td>8450</td>\n",
       "      <td>7</td>\n",
       "      <td>2003</td>\n",
       "      <td>2003</td>\n",
       "      <td>196.0</td>\n",
       "      <td>706.0</td>\n",
       "      <td>0.0</td>\n",
       "      <td>150.0</td>\n",
       "      <td>...</td>\n",
       "      <td>0</td>\n",
       "      <td>0</td>\n",
       "      <td>0</td>\n",
       "      <td>0</td>\n",
       "      <td>0</td>\n",
       "      <td>0</td>\n",
       "      <td>0</td>\n",
       "      <td>0</td>\n",
       "      <td>0</td>\n",
       "      <td>0</td>\n",
       "    </tr>\n",
       "    <tr>\n",
       "      <th>1</th>\n",
       "      <td>2</td>\n",
       "      <td>80.0</td>\n",
       "      <td>9600</td>\n",
       "      <td>6</td>\n",
       "      <td>1976</td>\n",
       "      <td>1976</td>\n",
       "      <td>0.0</td>\n",
       "      <td>978.0</td>\n",
       "      <td>0.0</td>\n",
       "      <td>284.0</td>\n",
       "      <td>...</td>\n",
       "      <td>0</td>\n",
       "      <td>0</td>\n",
       "      <td>0</td>\n",
       "      <td>0</td>\n",
       "      <td>0</td>\n",
       "      <td>0</td>\n",
       "      <td>0</td>\n",
       "      <td>0</td>\n",
       "      <td>0</td>\n",
       "      <td>0</td>\n",
       "    </tr>\n",
       "    <tr>\n",
       "      <th>2</th>\n",
       "      <td>3</td>\n",
       "      <td>68.0</td>\n",
       "      <td>11250</td>\n",
       "      <td>7</td>\n",
       "      <td>2001</td>\n",
       "      <td>2002</td>\n",
       "      <td>162.0</td>\n",
       "      <td>486.0</td>\n",
       "      <td>0.0</td>\n",
       "      <td>434.0</td>\n",
       "      <td>...</td>\n",
       "      <td>0</td>\n",
       "      <td>0</td>\n",
       "      <td>0</td>\n",
       "      <td>0</td>\n",
       "      <td>0</td>\n",
       "      <td>0</td>\n",
       "      <td>0</td>\n",
       "      <td>0</td>\n",
       "      <td>0</td>\n",
       "      <td>0</td>\n",
       "    </tr>\n",
       "    <tr>\n",
       "      <th>3</th>\n",
       "      <td>4</td>\n",
       "      <td>60.0</td>\n",
       "      <td>9550</td>\n",
       "      <td>7</td>\n",
       "      <td>1915</td>\n",
       "      <td>1970</td>\n",
       "      <td>0.0</td>\n",
       "      <td>216.0</td>\n",
       "      <td>0.0</td>\n",
       "      <td>540.0</td>\n",
       "      <td>...</td>\n",
       "      <td>0</td>\n",
       "      <td>0</td>\n",
       "      <td>0</td>\n",
       "      <td>0</td>\n",
       "      <td>0</td>\n",
       "      <td>0</td>\n",
       "      <td>0</td>\n",
       "      <td>0</td>\n",
       "      <td>0</td>\n",
       "      <td>0</td>\n",
       "    </tr>\n",
       "    <tr>\n",
       "      <th>4</th>\n",
       "      <td>5</td>\n",
       "      <td>84.0</td>\n",
       "      <td>14260</td>\n",
       "      <td>8</td>\n",
       "      <td>2000</td>\n",
       "      <td>2000</td>\n",
       "      <td>350.0</td>\n",
       "      <td>655.0</td>\n",
       "      <td>0.0</td>\n",
       "      <td>490.0</td>\n",
       "      <td>...</td>\n",
       "      <td>0</td>\n",
       "      <td>0</td>\n",
       "      <td>0</td>\n",
       "      <td>0</td>\n",
       "      <td>0</td>\n",
       "      <td>0</td>\n",
       "      <td>0</td>\n",
       "      <td>0</td>\n",
       "      <td>0</td>\n",
       "      <td>0</td>\n",
       "    </tr>\n",
       "  </tbody>\n",
       "</table>\n",
       "<p>5 rows × 1187 columns</p>\n",
       "</div>"
      ],
      "text/plain": [
       "   Id  LotFrontage  LotArea  OverallQual  YearBuilt  YearRemodAdd  MasVnrArea  \\\n",
       "0   1         65.0     8450            7       2003          2003       196.0   \n",
       "1   2         80.0     9600            6       1976          1976         0.0   \n",
       "2   3         68.0    11250            7       2001          2002       162.0   \n",
       "3   4         60.0     9550            7       1915          1970         0.0   \n",
       "4   5         84.0    14260            8       2000          2000       350.0   \n",
       "\n",
       "   BsmtFinSF1  BsmtFinSF2  BsmtUnfSF  \\\n",
       "0       706.0         0.0      150.0   \n",
       "1       978.0         0.0      284.0   \n",
       "2       486.0         0.0      434.0   \n",
       "3       216.0         0.0      540.0   \n",
       "4       655.0         0.0      490.0   \n",
       "\n",
       "                       ...                       \\\n",
       "0                      ...                        \n",
       "1                      ...                        \n",
       "2                      ...                        \n",
       "3                      ...                        \n",
       "4                      ...                        \n",
       "\n",
       "   Neighborhood + OverallQual + OverallCond_Veenker7+4  \\\n",
       "0                                                  0     \n",
       "1                                                  0     \n",
       "2                                                  0     \n",
       "3                                                  0     \n",
       "4                                                  0     \n",
       "\n",
       "   Neighborhood + OverallQual + OverallCond_Veenker7+5  \\\n",
       "0                                                  0     \n",
       "1                                                  0     \n",
       "2                                                  0     \n",
       "3                                                  0     \n",
       "4                                                  0     \n",
       "\n",
       "   Neighborhood + OverallQual + OverallCond_Veenker7+6  \\\n",
       "0                                                  0     \n",
       "1                                                  0     \n",
       "2                                                  0     \n",
       "3                                                  0     \n",
       "4                                                  0     \n",
       "\n",
       "   Neighborhood + OverallQual + OverallCond_Veenker7+7  \\\n",
       "0                                                  0     \n",
       "1                                                  0     \n",
       "2                                                  0     \n",
       "3                                                  0     \n",
       "4                                                  0     \n",
       "\n",
       "   Neighborhood + OverallQual + OverallCond_Veenker8+5  \\\n",
       "0                                                  0     \n",
       "1                                                  0     \n",
       "2                                                  0     \n",
       "3                                                  0     \n",
       "4                                                  0     \n",
       "\n",
       "   Neighborhood + OverallQual + OverallCond_Veenker8+8  \\\n",
       "0                                                  0     \n",
       "1                                                  0     \n",
       "2                                                  0     \n",
       "3                                                  0     \n",
       "4                                                  0     \n",
       "\n",
       "   Neighborhood + OverallQual + OverallCond_Veenker8+9  \\\n",
       "0                                                  0     \n",
       "1                                                  0     \n",
       "2                                                  0     \n",
       "3                                                  0     \n",
       "4                                                  0     \n",
       "\n",
       "   Neighborhood + OverallQual + OverallCond_Veenker9+3  \\\n",
       "0                                                  0     \n",
       "1                                                  0     \n",
       "2                                                  0     \n",
       "3                                                  0     \n",
       "4                                                  0     \n",
       "\n",
       "   Neighborhood + OverallQual + OverallCond_Veenker9+5  \\\n",
       "0                                                  0     \n",
       "1                                                  0     \n",
       "2                                                  0     \n",
       "3                                                  0     \n",
       "4                                                  0     \n",
       "\n",
       "   Neighborhood + OverallQual + OverallCond_nan  \n",
       "0                                             0  \n",
       "1                                             0  \n",
       "2                                             0  \n",
       "3                                             0  \n",
       "4                                             0  \n",
       "\n",
       "[5 rows x 1187 columns]"
      ]
     },
     "execution_count": 13,
     "metadata": {},
     "output_type": "execute_result"
    }
   ],
   "source": [
    "one_hot_df = pd.get_dummies(all_data, drop_first=True, dummy_na=True)\n",
    "one_hot_df.head()"
   ]
  },
  {
   "cell_type": "code",
   "execution_count": 14,
   "metadata": {
    "collapsed": false
   },
   "outputs": [
    {
     "data": {
      "text/plain": [
       "(2919, 1187)"
      ]
     },
     "execution_count": 14,
     "metadata": {},
     "output_type": "execute_result"
    }
   ],
   "source": [
    "one_hot_df.shape"
   ]
  },
  {
   "cell_type": "markdown",
   "metadata": {},
   "source": [
    "# Create Train and Test DF"
   ]
  },
  {
   "cell_type": "code",
   "execution_count": 15,
   "metadata": {
    "collapsed": false
   },
   "outputs": [
    {
     "data": {
      "text/plain": [
       "(1460, 1187)"
      ]
     },
     "execution_count": 15,
     "metadata": {},
     "output_type": "execute_result"
    }
   ],
   "source": [
    "#Split all_sub dataset into two: train and test\n",
    "train_index = len(X_train)\n",
    "train = one_hot_df.iloc[:train_index, :]\n",
    "test = one_hot_df.iloc[train_index:, :]\n",
    "train.shape"
   ]
  },
  {
   "cell_type": "code",
   "execution_count": 16,
   "metadata": {
    "collapsed": true
   },
   "outputs": [],
   "source": [
    "# Create training and test sets\n",
    "\n",
    "try:  # train_test_split was moved in 0.18.0\n",
    "    from sklearn.model_selection import train_test_split\n",
    "except:  # Following import works through 0.19 but outputs a warning in 0.18\n",
    "    from sklearn.cross_validation import train_test_split\n",
    "X_train, X_test, y_train, y_test = train_test_split(train, y_log, test_size=0.2, random_state=8)"
   ]
  },
  {
   "cell_type": "code",
   "execution_count": 17,
   "metadata": {
    "collapsed": true
   },
   "outputs": [],
   "source": [
    "def rmse_cv(model,x, y):\n",
    "    rmse= np.sqrt(-cross_val_score(model, x, y, scoring=\"neg_mean_squared_error\", cv = 5))\n",
    "    return(rmse)"
   ]
  },
  {
   "cell_type": "markdown",
   "metadata": {},
   "source": [
    "# Ridge without fixing skewness or scaling"
   ]
  },
  {
   "cell_type": "code",
   "execution_count": null,
   "metadata": {
    "collapsed": false
   },
   "outputs": [],
   "source": [
    "model_ridge = Ridge()\n",
    "alphas = np.logspace(0, 2, 100)\n",
    "cv_ridge = [rmse_cv(Ridge(alpha = alpha), X_train, y_train).mean() \n",
    "            for alpha in alphas]"
   ]
  },
  {
   "cell_type": "code",
   "execution_count": null,
   "metadata": {
    "collapsed": false
   },
   "outputs": [],
   "source": [
    "mpl.rcParams['figure.figsize'] = (12.0, 6.0)\n",
    "cv_ridge = pd.Series(cv_ridge, index = alphas)\n",
    "cv_ridge.plot(title = \" Cross Validation Ridge\")\n",
    "plt.xlabel(\"alpha\")\n",
    "plt.ylabel(\"rmse\")"
   ]
  },
  {
   "cell_type": "code",
   "execution_count": null,
   "metadata": {
    "collapsed": false
   },
   "outputs": [],
   "source": [
    "#Best alpha and rmse\n",
    "best =cv_ridge[cv_ridge == cv_ridge.min()]\n",
    "best_alpha = best.index[0]\n",
    "print(best_alpha)"
   ]
  },
  {
   "cell_type": "code",
   "execution_count": null,
   "metadata": {
    "collapsed": false
   },
   "outputs": [],
   "source": [
    "#Fitting to entire training subset using best alpha\n",
    "Ridge_best = Ridge(alpha = best_alpha)\n",
    "Ridge_best.fit(X_train, y_train)\n",
    "print(\"Ridge training R-squared is: %f\" %Ridge_best.score(X_train, y_train))\n",
    "\n",
    "y_predicted_train = Ridge_best.predict(X_train)\n",
    "mse_train = mean_squared_error(y_train, y_predicted_train)\n",
    "rms_train = np.sqrt(mean_squared_error(y_train, y_predicted_train))\n",
    "print(\"Ridge training RMSE is: %f\" %rms_train)"
   ]
  },
  {
   "cell_type": "code",
   "execution_count": null,
   "metadata": {
    "collapsed": false
   },
   "outputs": [],
   "source": [
    "#Test model against test set. \n",
    "\n",
    "y_predicted_test = Ridge_best.predict(X_test)\n",
    "mse_test = mean_squared_error(y_test, y_predicted_test)\n",
    "rms_test = np.sqrt(mean_squared_error(y_test, y_predicted_test))\n",
    "print(\"Ridge test R-squared is: %f\" %Ridge_best.score(X_test, y_test))\n",
    "print(\"Ridge test RMSE is: %f\" %rms_test)"
   ]
  },
  {
   "cell_type": "markdown",
   "metadata": {},
   "source": [
    "# Lasso without fixing skewness or scaling"
   ]
  },
  {
   "cell_type": "code",
   "execution_count": null,
   "metadata": {
    "collapsed": false
   },
   "outputs": [],
   "source": [
    "# LassoCV\n",
    "from sklearn.model_selection import GridSearchCV\n",
    "model = Lasso()\n",
    "alphas = np.logspace(-3, 2, 100)\n",
    "grid_param = [{'alpha': alphas}]\n",
    "grid = GridSearchCV(estimator=model, param_grid=grid_param).fit(X_train, y_train)\n",
    "print(grid)\n",
    "print(grid.best_score_)\n",
    "print(grid.best_estimator_.alpha)"
   ]
  },
  {
   "cell_type": "code",
   "execution_count": null,
   "metadata": {
    "collapsed": false
   },
   "outputs": [],
   "source": [
    "#Fitting to entire training subset using alpha = .001\n",
    "Lasso_best = Lasso(alpha = .001)\n",
    "Lasso_best.fit(X_train, y_train)\n",
    "print(\"Lasso training R-squared is: %f\" %Lasso_best.score(X_train, y_train))\n",
    "\n",
    "y_predicted_train = Lasso_best.predict(X_train)\n",
    "mse_train = mean_squared_error(y_train, y_predicted_train)\n",
    "rms_train = np.sqrt(mean_squared_error(y_train, y_predicted_train))\n",
    "print(\"Lasso training RMSE is: %f\" %rms_train)"
   ]
  },
  {
   "cell_type": "markdown",
   "metadata": {},
   "source": [
    "# Scaling"
   ]
  },
  {
   "cell_type": "code",
   "execution_count": 38,
   "metadata": {
    "collapsed": true
   },
   "outputs": [],
   "source": [
    "# Separate out interaction column names\n",
    "filter_col = ['BsmtQual + BsmtCond', 'ExterQual + ExterCond', 'GarageQual + GarageCond', 'Heating + HeatingQC',\n",
    "                'HighQualFinishedSF', 'OverallQual * TotalBaths', 'OverallQual * TotalSF', \n",
    "                'OverallQual + OverallCond', 'SaleType + SaleCondition', 'TotalBaths * TotalSF', \n",
    "                'TotalFinishedSF', 'TotalSF', 'Neighborhood + BldgType + HouseStyle',\n",
    "                'Neighborhood + Condition1 + Condition2', 'Neighborhood + OverallQual + OverallCond']\n",
    "\n",
    "#Separate out numeric column names\n",
    "num_col = ['HighQualFinishedSF','OverallQual * TotalBaths', 'OverallQual * TotalSF', 'TotalBaths * TotalSF',\n",
    "            'TotalFinishedSF', 'TotalSF']\n",
    "\n",
    "#Separate out categorical column names\n",
    "cat_col = ['BsmtQual + BsmtCond', 'ExterQual + ExterCond', 'GarageQual + GarageCond', 'Heating + HeatingQC',\n",
    "           'OverallQual + OverallCond', 'SaleType + SaleCondition', 'Neighborhood + BldgType + HouseStyle',\n",
    "           'Neighborhood + Condition1 + Condition2', 'Neighborhood + OverallQual + OverallCond']\n"
   ]
  },
  {
   "cell_type": "code",
   "execution_count": 39,
   "metadata": {
    "collapsed": false
   },
   "outputs": [
    {
     "name": "stderr",
     "output_type": "stream",
     "text": [
      "/Users/imansingh/anaconda/lib/python3.6/site-packages/sklearn/utils/validation.py:429: DataConversionWarning: Data with input dtype int64 was converted to float64 by StandardScaler.\n",
      "  warnings.warn(msg, _DataConversionWarning)\n"
     ]
    }
   ],
   "source": [
    "#Scale numeric variables using normal distribution. Scale it according to training and apply to both \n",
    "#training and test sets\n",
    "\n",
    "C =X_train.copy()\n",
    "D =X_test.copy()\n",
    "scaler = preprocessing.StandardScaler()\n",
    "\n",
    "scaled_df =pd.DataFrame()\n",
    "for col in num_col: \n",
    "    C[col] = scaler.fit_transform(X_train[col].values.reshape(-1,1))\n",
    "    D[col] = scaler.transform(X_test[col].values.reshape(-1,1))\n",
    "\n",
    "interact_train_scaled = C\n",
    "interact_test_scaled = D"
   ]
  },
  {
   "cell_type": "code",
   "execution_count": 40,
   "metadata": {
    "collapsed": true
   },
   "outputs": [],
   "source": [
    "del C, D"
   ]
  },
  {
   "cell_type": "code",
   "execution_count": 41,
   "metadata": {
    "collapsed": false
   },
   "outputs": [
    {
     "data": {
      "text/html": [
       "<div>\n",
       "<table border=\"1\" class=\"dataframe\">\n",
       "  <thead>\n",
       "    <tr style=\"text-align: right;\">\n",
       "      <th></th>\n",
       "      <th>Id</th>\n",
       "      <th>MSSubClass</th>\n",
       "      <th>MSZoning</th>\n",
       "      <th>LotFrontage</th>\n",
       "      <th>LotArea</th>\n",
       "      <th>Street</th>\n",
       "      <th>Alley</th>\n",
       "      <th>LotShape</th>\n",
       "      <th>LandContour</th>\n",
       "      <th>Utilities</th>\n",
       "      <th>...</th>\n",
       "      <th>TotalBaths * TotalSF</th>\n",
       "      <th>OverallQual + OverallCond</th>\n",
       "      <th>BsmtQual + BsmtCond</th>\n",
       "      <th>GarageQual + GarageCond</th>\n",
       "      <th>ExterQual + ExterCond</th>\n",
       "      <th>Heating + HeatingQC</th>\n",
       "      <th>SaleType + SaleCondition</th>\n",
       "      <th>Neighborhood + BldgType + HouseStyle</th>\n",
       "      <th>Neighborhood + Condition1 + Condition2</th>\n",
       "      <th>Neighborhood + OverallQual + OverallCond</th>\n",
       "    </tr>\n",
       "  </thead>\n",
       "  <tbody>\n",
       "    <tr>\n",
       "      <th>0</th>\n",
       "      <td>1</td>\n",
       "      <td>60</td>\n",
       "      <td>RL</td>\n",
       "      <td>65.0</td>\n",
       "      <td>8450</td>\n",
       "      <td>Pave</td>\n",
       "      <td>None</td>\n",
       "      <td>Reg</td>\n",
       "      <td>Lvl</td>\n",
       "      <td>AllPub</td>\n",
       "      <td>...</td>\n",
       "      <td>0.755818</td>\n",
       "      <td>7+5</td>\n",
       "      <td>Gd+TA</td>\n",
       "      <td>TA+TA</td>\n",
       "      <td>Gd+TA</td>\n",
       "      <td>GasA+Ex</td>\n",
       "      <td>WD+Normal</td>\n",
       "      <td>CollgCr+1Fam+2Story</td>\n",
       "      <td>CollgCr+Norm+Norm</td>\n",
       "      <td>CollgCr7+5</td>\n",
       "    </tr>\n",
       "    <tr>\n",
       "      <th>1</th>\n",
       "      <td>2</td>\n",
       "      <td>20</td>\n",
       "      <td>RL</td>\n",
       "      <td>80.0</td>\n",
       "      <td>9600</td>\n",
       "      <td>Pave</td>\n",
       "      <td>None</td>\n",
       "      <td>Reg</td>\n",
       "      <td>Lvl</td>\n",
       "      <td>AllPub</td>\n",
       "      <td>...</td>\n",
       "      <td>0.060916</td>\n",
       "      <td>6+8</td>\n",
       "      <td>Gd+TA</td>\n",
       "      <td>TA+TA</td>\n",
       "      <td>TA+TA</td>\n",
       "      <td>GasA+Ex</td>\n",
       "      <td>WD+Normal</td>\n",
       "      <td>Veenker+1Fam+1Story</td>\n",
       "      <td>Veenker+Feedr+Norm</td>\n",
       "      <td>Veenker6+8</td>\n",
       "    </tr>\n",
       "    <tr>\n",
       "      <th>2</th>\n",
       "      <td>3</td>\n",
       "      <td>60</td>\n",
       "      <td>RL</td>\n",
       "      <td>68.0</td>\n",
       "      <td>11250</td>\n",
       "      <td>Pave</td>\n",
       "      <td>None</td>\n",
       "      <td>IR1</td>\n",
       "      <td>Lvl</td>\n",
       "      <td>AllPub</td>\n",
       "      <td>...</td>\n",
       "      <td>0.883300</td>\n",
       "      <td>7+5</td>\n",
       "      <td>Gd+TA</td>\n",
       "      <td>TA+TA</td>\n",
       "      <td>Gd+TA</td>\n",
       "      <td>GasA+Ex</td>\n",
       "      <td>WD+Normal</td>\n",
       "      <td>CollgCr+1Fam+2Story</td>\n",
       "      <td>CollgCr+Norm+Norm</td>\n",
       "      <td>CollgCr7+5</td>\n",
       "    </tr>\n",
       "    <tr>\n",
       "      <th>3</th>\n",
       "      <td>4</td>\n",
       "      <td>70</td>\n",
       "      <td>RL</td>\n",
       "      <td>60.0</td>\n",
       "      <td>9550</td>\n",
       "      <td>Pave</td>\n",
       "      <td>None</td>\n",
       "      <td>IR1</td>\n",
       "      <td>Lvl</td>\n",
       "      <td>AllPub</td>\n",
       "      <td>...</td>\n",
       "      <td>-0.293949</td>\n",
       "      <td>7+5</td>\n",
       "      <td>TA+Gd</td>\n",
       "      <td>TA+TA</td>\n",
       "      <td>TA+TA</td>\n",
       "      <td>GasA+Gd</td>\n",
       "      <td>WD+Abnorml</td>\n",
       "      <td>Crawfor+1Fam+2Story</td>\n",
       "      <td>Crawfor+Norm+Norm</td>\n",
       "      <td>Crawfor7+5</td>\n",
       "    </tr>\n",
       "    <tr>\n",
       "      <th>4</th>\n",
       "      <td>5</td>\n",
       "      <td>60</td>\n",
       "      <td>RL</td>\n",
       "      <td>84.0</td>\n",
       "      <td>14260</td>\n",
       "      <td>Pave</td>\n",
       "      <td>None</td>\n",
       "      <td>IR1</td>\n",
       "      <td>Lvl</td>\n",
       "      <td>AllPub</td>\n",
       "      <td>...</td>\n",
       "      <td>1.463339</td>\n",
       "      <td>8+5</td>\n",
       "      <td>Gd+TA</td>\n",
       "      <td>TA+TA</td>\n",
       "      <td>Gd+TA</td>\n",
       "      <td>GasA+Ex</td>\n",
       "      <td>WD+Normal</td>\n",
       "      <td>NoRidge+1Fam+2Story</td>\n",
       "      <td>NoRidge+Norm+Norm</td>\n",
       "      <td>NoRidge8+5</td>\n",
       "    </tr>\n",
       "  </tbody>\n",
       "</table>\n",
       "<p>5 rows × 96 columns</p>\n",
       "</div>"
      ],
      "text/plain": [
       "   Id MSSubClass MSZoning  LotFrontage  LotArea Street Alley LotShape  \\\n",
       "0   1         60       RL         65.0     8450   Pave  None      Reg   \n",
       "1   2         20       RL         80.0     9600   Pave  None      Reg   \n",
       "2   3         60       RL         68.0    11250   Pave  None      IR1   \n",
       "3   4         70       RL         60.0     9550   Pave  None      IR1   \n",
       "4   5         60       RL         84.0    14260   Pave  None      IR1   \n",
       "\n",
       "  LandContour Utilities                    ...                     \\\n",
       "0         Lvl    AllPub                    ...                      \n",
       "1         Lvl    AllPub                    ...                      \n",
       "2         Lvl    AllPub                    ...                      \n",
       "3         Lvl    AllPub                    ...                      \n",
       "4         Lvl    AllPub                    ...                      \n",
       "\n",
       "  TotalBaths * TotalSF OverallQual + OverallCond BsmtQual + BsmtCond  \\\n",
       "0             0.755818                       7+5               Gd+TA   \n",
       "1             0.060916                       6+8               Gd+TA   \n",
       "2             0.883300                       7+5               Gd+TA   \n",
       "3            -0.293949                       7+5               TA+Gd   \n",
       "4             1.463339                       8+5               Gd+TA   \n",
       "\n",
       "  GarageQual + GarageCond ExterQual + ExterCond Heating + HeatingQC  \\\n",
       "0                   TA+TA                 Gd+TA             GasA+Ex   \n",
       "1                   TA+TA                 TA+TA             GasA+Ex   \n",
       "2                   TA+TA                 Gd+TA             GasA+Ex   \n",
       "3                   TA+TA                 TA+TA             GasA+Gd   \n",
       "4                   TA+TA                 Gd+TA             GasA+Ex   \n",
       "\n",
       "  SaleType + SaleCondition  Neighborhood + BldgType + HouseStyle  \\\n",
       "0                WD+Normal                   CollgCr+1Fam+2Story   \n",
       "1                WD+Normal                   Veenker+1Fam+1Story   \n",
       "2                WD+Normal                   CollgCr+1Fam+2Story   \n",
       "3               WD+Abnorml                   Crawfor+1Fam+2Story   \n",
       "4                WD+Normal                   NoRidge+1Fam+2Story   \n",
       "\n",
       "  Neighborhood + Condition1 + Condition2  \\\n",
       "0                      CollgCr+Norm+Norm   \n",
       "1                     Veenker+Feedr+Norm   \n",
       "2                      CollgCr+Norm+Norm   \n",
       "3                      Crawfor+Norm+Norm   \n",
       "4                      NoRidge+Norm+Norm   \n",
       "\n",
       "   Neighborhood + OverallQual + OverallCond  \n",
       "0                                CollgCr7+5  \n",
       "1                                Veenker6+8  \n",
       "2                                CollgCr7+5  \n",
       "3                                Crawfor7+5  \n",
       "4                                NoRidge8+5  \n",
       "\n",
       "[5 rows x 96 columns]"
      ]
     },
     "execution_count": 41,
     "metadata": {},
     "output_type": "execute_result"
    }
   ],
   "source": [
    "# Combine training and test interactions\n",
    "all_data = pd.concat([interact_train_scaled, interact_test_scaled])\n",
    "all_data.head()"
   ]
  },
  {
   "cell_type": "code",
   "execution_count": 42,
   "metadata": {
    "collapsed": false
   },
   "outputs": [
    {
     "data": {
      "text/html": [
       "<div>\n",
       "<table border=\"1\" class=\"dataframe\">\n",
       "  <thead>\n",
       "    <tr style=\"text-align: right;\">\n",
       "      <th></th>\n",
       "      <th>Id</th>\n",
       "      <th>LotFrontage</th>\n",
       "      <th>LotArea</th>\n",
       "      <th>OverallQual</th>\n",
       "      <th>YearBuilt</th>\n",
       "      <th>YearRemodAdd</th>\n",
       "      <th>MasVnrArea</th>\n",
       "      <th>BsmtFinSF1</th>\n",
       "      <th>BsmtFinSF2</th>\n",
       "      <th>BsmtUnfSF</th>\n",
       "      <th>...</th>\n",
       "      <th>Neighborhood + OverallQual + OverallCond_Veenker7+4</th>\n",
       "      <th>Neighborhood + OverallQual + OverallCond_Veenker7+5</th>\n",
       "      <th>Neighborhood + OverallQual + OverallCond_Veenker7+6</th>\n",
       "      <th>Neighborhood + OverallQual + OverallCond_Veenker7+7</th>\n",
       "      <th>Neighborhood + OverallQual + OverallCond_Veenker8+5</th>\n",
       "      <th>Neighborhood + OverallQual + OverallCond_Veenker8+8</th>\n",
       "      <th>Neighborhood + OverallQual + OverallCond_Veenker8+9</th>\n",
       "      <th>Neighborhood + OverallQual + OverallCond_Veenker9+3</th>\n",
       "      <th>Neighborhood + OverallQual + OverallCond_Veenker9+5</th>\n",
       "      <th>Neighborhood + OverallQual + OverallCond_nan</th>\n",
       "    </tr>\n",
       "  </thead>\n",
       "  <tbody>\n",
       "    <tr>\n",
       "      <th>0</th>\n",
       "      <td>1</td>\n",
       "      <td>65.0</td>\n",
       "      <td>8450</td>\n",
       "      <td>7</td>\n",
       "      <td>2003</td>\n",
       "      <td>2003</td>\n",
       "      <td>196.0</td>\n",
       "      <td>706.0</td>\n",
       "      <td>0.0</td>\n",
       "      <td>150.0</td>\n",
       "      <td>...</td>\n",
       "      <td>0</td>\n",
       "      <td>0</td>\n",
       "      <td>0</td>\n",
       "      <td>0</td>\n",
       "      <td>0</td>\n",
       "      <td>0</td>\n",
       "      <td>0</td>\n",
       "      <td>0</td>\n",
       "      <td>0</td>\n",
       "      <td>0</td>\n",
       "    </tr>\n",
       "    <tr>\n",
       "      <th>1</th>\n",
       "      <td>2</td>\n",
       "      <td>80.0</td>\n",
       "      <td>9600</td>\n",
       "      <td>6</td>\n",
       "      <td>1976</td>\n",
       "      <td>1976</td>\n",
       "      <td>0.0</td>\n",
       "      <td>978.0</td>\n",
       "      <td>0.0</td>\n",
       "      <td>284.0</td>\n",
       "      <td>...</td>\n",
       "      <td>0</td>\n",
       "      <td>0</td>\n",
       "      <td>0</td>\n",
       "      <td>0</td>\n",
       "      <td>0</td>\n",
       "      <td>0</td>\n",
       "      <td>0</td>\n",
       "      <td>0</td>\n",
       "      <td>0</td>\n",
       "      <td>0</td>\n",
       "    </tr>\n",
       "    <tr>\n",
       "      <th>2</th>\n",
       "      <td>3</td>\n",
       "      <td>68.0</td>\n",
       "      <td>11250</td>\n",
       "      <td>7</td>\n",
       "      <td>2001</td>\n",
       "      <td>2002</td>\n",
       "      <td>162.0</td>\n",
       "      <td>486.0</td>\n",
       "      <td>0.0</td>\n",
       "      <td>434.0</td>\n",
       "      <td>...</td>\n",
       "      <td>0</td>\n",
       "      <td>0</td>\n",
       "      <td>0</td>\n",
       "      <td>0</td>\n",
       "      <td>0</td>\n",
       "      <td>0</td>\n",
       "      <td>0</td>\n",
       "      <td>0</td>\n",
       "      <td>0</td>\n",
       "      <td>0</td>\n",
       "    </tr>\n",
       "    <tr>\n",
       "      <th>3</th>\n",
       "      <td>4</td>\n",
       "      <td>60.0</td>\n",
       "      <td>9550</td>\n",
       "      <td>7</td>\n",
       "      <td>1915</td>\n",
       "      <td>1970</td>\n",
       "      <td>0.0</td>\n",
       "      <td>216.0</td>\n",
       "      <td>0.0</td>\n",
       "      <td>540.0</td>\n",
       "      <td>...</td>\n",
       "      <td>0</td>\n",
       "      <td>0</td>\n",
       "      <td>0</td>\n",
       "      <td>0</td>\n",
       "      <td>0</td>\n",
       "      <td>0</td>\n",
       "      <td>0</td>\n",
       "      <td>0</td>\n",
       "      <td>0</td>\n",
       "      <td>0</td>\n",
       "    </tr>\n",
       "    <tr>\n",
       "      <th>4</th>\n",
       "      <td>5</td>\n",
       "      <td>84.0</td>\n",
       "      <td>14260</td>\n",
       "      <td>8</td>\n",
       "      <td>2000</td>\n",
       "      <td>2000</td>\n",
       "      <td>350.0</td>\n",
       "      <td>655.0</td>\n",
       "      <td>0.0</td>\n",
       "      <td>490.0</td>\n",
       "      <td>...</td>\n",
       "      <td>0</td>\n",
       "      <td>0</td>\n",
       "      <td>0</td>\n",
       "      <td>0</td>\n",
       "      <td>0</td>\n",
       "      <td>0</td>\n",
       "      <td>0</td>\n",
       "      <td>0</td>\n",
       "      <td>0</td>\n",
       "      <td>0</td>\n",
       "    </tr>\n",
       "  </tbody>\n",
       "</table>\n",
       "<p>5 rows × 1187 columns</p>\n",
       "</div>"
      ],
      "text/plain": [
       "   Id  LotFrontage  LotArea  OverallQual  YearBuilt  YearRemodAdd  MasVnrArea  \\\n",
       "0   1         65.0     8450            7       2003          2003       196.0   \n",
       "1   2         80.0     9600            6       1976          1976         0.0   \n",
       "2   3         68.0    11250            7       2001          2002       162.0   \n",
       "3   4         60.0     9550            7       1915          1970         0.0   \n",
       "4   5         84.0    14260            8       2000          2000       350.0   \n",
       "\n",
       "   BsmtFinSF1  BsmtFinSF2  BsmtUnfSF  \\\n",
       "0       706.0         0.0      150.0   \n",
       "1       978.0         0.0      284.0   \n",
       "2       486.0         0.0      434.0   \n",
       "3       216.0         0.0      540.0   \n",
       "4       655.0         0.0      490.0   \n",
       "\n",
       "                       ...                       \\\n",
       "0                      ...                        \n",
       "1                      ...                        \n",
       "2                      ...                        \n",
       "3                      ...                        \n",
       "4                      ...                        \n",
       "\n",
       "   Neighborhood + OverallQual + OverallCond_Veenker7+4  \\\n",
       "0                                                  0     \n",
       "1                                                  0     \n",
       "2                                                  0     \n",
       "3                                                  0     \n",
       "4                                                  0     \n",
       "\n",
       "   Neighborhood + OverallQual + OverallCond_Veenker7+5  \\\n",
       "0                                                  0     \n",
       "1                                                  0     \n",
       "2                                                  0     \n",
       "3                                                  0     \n",
       "4                                                  0     \n",
       "\n",
       "   Neighborhood + OverallQual + OverallCond_Veenker7+6  \\\n",
       "0                                                  0     \n",
       "1                                                  0     \n",
       "2                                                  0     \n",
       "3                                                  0     \n",
       "4                                                  0     \n",
       "\n",
       "   Neighborhood + OverallQual + OverallCond_Veenker7+7  \\\n",
       "0                                                  0     \n",
       "1                                                  0     \n",
       "2                                                  0     \n",
       "3                                                  0     \n",
       "4                                                  0     \n",
       "\n",
       "   Neighborhood + OverallQual + OverallCond_Veenker8+5  \\\n",
       "0                                                  0     \n",
       "1                                                  0     \n",
       "2                                                  0     \n",
       "3                                                  0     \n",
       "4                                                  0     \n",
       "\n",
       "   Neighborhood + OverallQual + OverallCond_Veenker8+8  \\\n",
       "0                                                  0     \n",
       "1                                                  0     \n",
       "2                                                  0     \n",
       "3                                                  0     \n",
       "4                                                  0     \n",
       "\n",
       "   Neighborhood + OverallQual + OverallCond_Veenker8+9  \\\n",
       "0                                                  0     \n",
       "1                                                  0     \n",
       "2                                                  0     \n",
       "3                                                  0     \n",
       "4                                                  0     \n",
       "\n",
       "   Neighborhood + OverallQual + OverallCond_Veenker9+3  \\\n",
       "0                                                  0     \n",
       "1                                                  0     \n",
       "2                                                  0     \n",
       "3                                                  0     \n",
       "4                                                  0     \n",
       "\n",
       "   Neighborhood + OverallQual + OverallCond_Veenker9+5  \\\n",
       "0                                                  0     \n",
       "1                                                  0     \n",
       "2                                                  0     \n",
       "3                                                  0     \n",
       "4                                                  0     \n",
       "\n",
       "   Neighborhood + OverallQual + OverallCond_nan  \n",
       "0                                             0  \n",
       "1                                             0  \n",
       "2                                             0  \n",
       "3                                             0  \n",
       "4                                             0  \n",
       "\n",
       "[5 rows x 1187 columns]"
      ]
     },
     "execution_count": 42,
     "metadata": {},
     "output_type": "execute_result"
    }
   ],
   "source": [
    "one_hot_df_scaled = pd.get_dummies(all_data, drop_first=True, dummy_na=True)\n",
    "one_hot_df.head()"
   ]
  },
  {
   "cell_type": "markdown",
   "metadata": {},
   "source": [
    "# Scaled Ridge"
   ]
  },
  {
   "cell_type": "code",
   "execution_count": 43,
   "metadata": {
    "collapsed": false
   },
   "outputs": [
    {
     "data": {
      "text/plain": [
       "(1460, 1187)"
      ]
     },
     "execution_count": 43,
     "metadata": {},
     "output_type": "execute_result"
    }
   ],
   "source": [
    "#Split all_sub dataset into two: train and test\n",
    "train_index = len(X_train)\n",
    "train = one_hot_df_scaled.iloc[:train_index, :]\n",
    "test = one_hot_df_scaled.iloc[train_index:, :]\n",
    "train.shape"
   ]
  },
  {
   "cell_type": "code",
   "execution_count": 44,
   "metadata": {
    "collapsed": false
   },
   "outputs": [],
   "source": [
    "# Create training and test sets\n",
    "\n",
    "try:  # train_test_split was moved in 0.18.0\n",
    "    from sklearn.model_selection import train_test_split\n",
    "except:  # Following import works through 0.19 but outputs a warning in 0.18\n",
    "    from sklearn.cross_validation import train_test_split\n",
    "X_train, X_test, y_train, y_test = train_test_split(train, y_log, test_size=0.2, random_state=8)"
   ]
  },
  {
   "cell_type": "code",
   "execution_count": 45,
   "metadata": {
    "collapsed": false
   },
   "outputs": [],
   "source": [
    "model_ridge = Ridge()\n",
    "alphas = np.logspace(0, 2, 100)\n",
    "cv_ridge = [rmse_cv(Ridge(alpha = alpha), X_train, y_train).mean() \n",
    "            for alpha in alphas]"
   ]
  },
  {
   "cell_type": "code",
   "execution_count": 46,
   "metadata": {
    "collapsed": false
   },
   "outputs": [
    {
     "data": {
      "text/plain": [
       "<matplotlib.text.Text at 0x111b3a400>"
      ]
     },
     "execution_count": 46,
     "metadata": {},
     "output_type": "execute_result"
    },
    {
     "data": {
      "image/png": "[encoded data removed]",
      "text/plain": [
       "<matplotlib.figure.Figure at 0x111b26470>"
      ]
     },
     "metadata": {},
     "output_type": "display_data"
    }
   ],
   "source": [
    "mpl.rcParams['figure.figsize'] = (12.0, 6.0)\n",
    "cv_ridge = pd.Series(cv_ridge, index = alphas)\n",
    "cv_ridge.plot(title = \" Cross Validation Ridge\")\n",
    "plt.xlabel(\"alpha\")\n",
    "plt.ylabel(\"rmse\")"
   ]
  },
  {
   "cell_type": "code",
   "execution_count": 47,
   "metadata": {
    "collapsed": false
   },
   "outputs": [
    {
     "name": "stdout",
     "output_type": "stream",
     "text": [
      "16.2975083462\n"
     ]
    }
   ],
   "source": [
    "#Best alpha and rmse\n",
    "best =cv_ridge[cv_ridge == cv_ridge.min()]\n",
    "best_alpha = best.index[0]\n",
    "print(best_alpha)"
   ]
  },
  {
   "cell_type": "code",
   "execution_count": 48,
   "metadata": {
    "collapsed": false
   },
   "outputs": [
    {
     "name": "stdout",
     "output_type": "stream",
     "text": [
      "Ridge training R-squared is: 0.938079\n",
      "Ridge training RMSE is: 0.100516\n"
     ]
    }
   ],
   "source": [
    "#Fitting to entire training subset using best alpha\n",
    "Ridge_best = Ridge(alpha = best_alpha)\n",
    "Ridge_best.fit(X_train, y_train)\n",
    "print(\"Ridge training R-squared is: %f\" %Ridge_best.score(X_train, y_train))\n",
    "\n",
    "y_predicted_train = Ridge_best.predict(X_train)\n",
    "mse_train = mean_squared_error(y_train, y_predicted_train)\n",
    "rms_train = np.sqrt(mean_squared_error(y_train, y_predicted_train))\n",
    "print(\"Ridge training RMSE is: %f\" %rms_train)"
   ]
  },
  {
   "cell_type": "code",
   "execution_count": 49,
   "metadata": {
    "collapsed": false
   },
   "outputs": [
    {
     "name": "stdout",
     "output_type": "stream",
     "text": [
      "Ridge test R-squared is: 0.906336\n",
      "Ridge test RMSE is: 0.115296\n"
     ]
    }
   ],
   "source": [
    "#Test model against test set. \n",
    "\n",
    "y_predicted_test = Ridge_best.predict(X_test)\n",
    "mse_test = mean_squared_error(y_test, y_predicted_test)\n",
    "rms_test = np.sqrt(mean_squared_error(y_test, y_predicted_test))\n",
    "print(\"Ridge test R-squared is: %f\" %Ridge_best.score(X_test, y_test))\n",
    "print(\"Ridge test RMSE is: %f\" %rms_test)"
   ]
  },
  {
   "cell_type": "code",
   "execution_count": 50,
   "metadata": {
    "collapsed": false
   },
   "outputs": [
    {
     "name": "stdout",
     "output_type": "stream",
     "text": [
      "Ridge R-squared on entire training set is: 0.932635\n",
      "Ridg RMSE is: 0.097984\n"
     ]
    }
   ],
   "source": [
    "#Fitting to entire training set\n",
    "Ridge_final = Ridge(alpha = best_alpha)\n",
    "Ridge_final.fit(train, y_log)\n",
    "print(\"Ridge R-squared on entire training set is: %f\" %Ridge_best.score(train, y_log))\n",
    "\n",
    "y_predicted = Ridge_final.predict(train)\n",
    "mse = mean_squared_error(y_log, y_predicted)\n",
    "rms = np.sqrt(mean_squared_error(y_log, y_predicted))\n",
    "print(\"Ridg RMSE is: %f\" %rms)"
   ]
  },
  {
   "cell_type": "code",
   "execution_count": 51,
   "metadata": {
    "collapsed": false
   },
   "outputs": [
    {
     "data": {
      "text/plain": [
       "{'alpha': 16.297508346206442,\n",
       " 'copy_X': True,\n",
       " 'fit_intercept': True,\n",
       " 'max_iter': None,\n",
       " 'normalize': False,\n",
       " 'random_state': None,\n",
       " 'solver': 'auto',\n",
       " 'tol': 0.001}"
      ]
     },
     "execution_count": 51,
     "metadata": {},
     "output_type": "execute_result"
    }
   ],
   "source": [
    "Ridge_final.get_params()"
   ]
  },
  {
   "cell_type": "code",
   "execution_count": null,
   "metadata": {
    "collapsed": true
   },
   "outputs": [],
   "source": []
  },
  {
   "cell_type": "markdown",
   "metadata": {},
   "source": [
    "# Scaled Lasso"
   ]
  },
  {
   "cell_type": "code",
   "execution_count": null,
   "metadata": {
    "collapsed": true
   },
   "outputs": [],
   "source": []
  },
  {
   "cell_type": "code",
   "execution_count": null,
   "metadata": {
    "collapsed": false
   },
   "outputs": [],
   "source": [
    "# LassoCV\n",
    "\n",
    "alphas = np.logspace(-2, 0, 100)\n",
    "cv_lasso = [rmse_cv(Lasso(alpha = alpha), X_train, y_train).mean() for alpha in alphas]\n",
    "alphas"
   ]
  },
  {
   "cell_type": "code",
   "execution_count": null,
   "metadata": {
    "collapsed": false
   },
   "outputs": [],
   "source": [
    "mpl.rcParams['figure.figsize'] = (12.0, 6.0)\n",
    "cv_lasso = pd.Series(cv_lasso, index = alphas)\n",
    "cv_lasso.plot(title = \" Cross Validation Lasso\")\n",
    "plt.xlabel(\"alpha\")\n",
    "plt.ylabel(\"rmse\")"
   ]
  },
  {
   "cell_type": "code",
   "execution_count": null,
   "metadata": {
    "collapsed": false
   },
   "outputs": [],
   "source": [
    "#Fitting to entire training subset using alpha = .001\n",
    "Lasso_best = Lasso(alpha = .001)\n",
    "Lasso_best.fit(X_train, y_train)\n",
    "print(\"Lasso training R-squared is: %f\" %Lasso_best.score(X_train, y_train))\n",
    "\n",
    "y_predicted_train = Lasso_best.predict(X_train)\n",
    "mse_train = mean_squared_error(y_train, y_predicted_train)\n",
    "rms_train = np.sqrt(mean_squared_error(y_train, y_predicted_train))\n",
    "print(\"Lasso training RMSE is: %f\" %rms_train)"
   ]
  }
 ],
 "metadata": {
  "kernelspec": {
   "display_name": "Python 3",
   "language": "python",
   "name": "python3"
  },
  "language_info": {
   "codemirror_mode": {
    "name": "ipython",
    "version": 3
   },
   "file_extension": ".py",
   "mimetype": "text/x-python",
   "name": "python",
   "nbconvert_exporter": "python",
   "pygments_lexer": "ipython3",
   "version": "3.6.0"
  }
 },
 "nbformat": 4,
 "nbformat_minor": 0
}
