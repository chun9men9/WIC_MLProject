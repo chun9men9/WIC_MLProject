{
 "cells": [
  {
   "cell_type": "markdown",
   "metadata": {},
   "source": [
    "### Linear Regression Model Using the following Variables (dummified for four of them)\n",
    "    1. OverallQual\n",
    "    2. HouseStyle\n",
    "    3. SaleCondtion\n",
    "    4. Neighborhood\n",
    "    4. GrLivArea"
   ]
  },
  {
   "cell_type": "code",
   "execution_count": 3,
   "metadata": {},
   "outputs": [],
   "source": [
    "#### Loading the packages to be used\n",
    "from __future__ import print_function \n",
    "import pandas as pd\n",
    "import numpy as np\n",
    "from scipy import stats\n",
    "\n",
    "from sklearn import linear_model\n",
    "from sklearn.metrics import mean_squared_error\n",
    "from sklearn.model_selection import train_test_split\n",
    "from sklearn import preprocessing\n",
    "from sklearn.linear_model import Ridge, Lasso, RidgeCV, ElasticNet, LassoCV, LassoLarsCV\n",
    "from sklearn.model_selection import cross_val_score\n",
    "\n",
    "import statsmodels.api as sm\n",
    "from  statsmodels.genmod import generalized_linear_model"
   ]
  },
  {
   "cell_type": "code",
   "execution_count": 34,
   "metadata": {
    "collapsed": true
   },
   "outputs": [],
   "source": [
    "#Read in csv files\n",
    "\n",
    "X5b = pd.read_csv('XTrain_Wing.csv') # X values used to train entire dataset\n",
    "yb = pd.read_csv('YTrain_Wing.csv') # Y values used to train entire dataset \n",
    "X_test = pd.read_csv('XTest_Wing.csv') # X values used to make predictions for Kaggle\n",
    "\n"
   ]
  },
  {
   "cell_type": "code",
   "execution_count": 36,
   "metadata": {},
   "outputs": [
    {
     "name": "stdout",
     "output_type": "stream",
     "text": [
      "                            OLS Regression Results                            \n",
      "==============================================================================\n",
      "Dep. Variable:              SalePrice   R-squared:                       0.807\n",
      "Model:                            OLS   Adj. R-squared:                  0.806\n",
      "Method:                 Least Squares   F-statistic:                     671.6\n",
      "Date:                Fri, 10 Nov 2017   Prob (F-statistic):               0.00\n",
      "Time:                        14:32:25   Log-Likelihood:                 466.91\n",
      "No. Observations:                1458   AIC:                            -913.8\n",
      "Df Residuals:                    1448   BIC:                            -861.0\n",
      "Df Model:                           9                                         \n",
      "Covariance Type:            nonrobust                                         \n",
      "=====================================================================================\n",
      "                        coef    std err          t      P>|t|      [0.025      0.975]\n",
      "-------------------------------------------------------------------------------------\n",
      "const                11.7127      0.018    649.885      0.000      11.677      11.748\n",
      "GrLivArea             0.2218      0.007     33.652      0.000       0.209       0.235\n",
      "Neigh__2              0.1106      0.013      8.259      0.000       0.084       0.137\n",
      "Neigh__3              0.2434      0.014     17.760      0.000       0.216       0.270\n",
      "Neigh__4              0.3292      0.018     18.228      0.000       0.294       0.365\n",
      "Style__2Story        -0.1296      0.012    -11.103      0.000      -0.153      -0.107\n",
      "Style__Split          0.0521      0.019      2.767      0.006       0.015       0.089\n",
      "Qual__High            0.4030      0.024     16.511      0.000       0.355       0.451\n",
      "Qual__Medium          0.1823      0.017     10.668      0.000       0.149       0.216\n",
      "saleCond__Partial     0.1021      0.018      5.654      0.000       0.067       0.138\n",
      "==============================================================================\n",
      "Omnibus:                      190.841   Durbin-Watson:                   1.932\n",
      "Prob(Omnibus):                  0.000   Jarque-Bera (JB):              450.773\n",
      "Skew:                          -0.741   Prob(JB):                     1.31e-98\n",
      "Kurtosis:                       5.285   Cond. No.                         9.87\n",
      "==============================================================================\n",
      "\n",
      "Warnings:\n",
      "[1] Standard Errors assume that the covariance matrix of the errors is correctly specified.\n"
     ]
    }
   ],
   "source": [
    "#Train on entire dataset\n",
    "X_all = sm.add_constant(X5b)\n",
    "model_final = sm.OLS(yb, X_all)\n",
    "results = model_final.fit()\n",
    "print(results.summary())"
   ]
  },
  {
   "cell_type": "code",
   "execution_count": 39,
   "metadata": {},
   "outputs": [],
   "source": [
    "#Make Kaggle predictions\n",
    "X_test = sm.add_constant(X_test)\n",
    "y_test = np.exp(results.predict(X_test))-1\n",
    "y_test = pd.DataFrame({'SalePrice': y_test})\n"
   ]
  },
  {
   "cell_type": "code",
   "execution_count": 41,
   "metadata": {},
   "outputs": [
    {
     "data": {
      "text/html": [
       "<div>\n",
       "<style>\n",
       "    .dataframe thead tr:only-child th {\n",
       "        text-align: right;\n",
       "    }\n",
       "\n",
       "    .dataframe thead th {\n",
       "        text-align: left;\n",
       "    }\n",
       "\n",
       "    .dataframe tbody tr th {\n",
       "        vertical-align: top;\n",
       "    }\n",
       "</style>\n",
       "<table border=\"1\" class=\"dataframe\">\n",
       "  <thead>\n",
       "    <tr style=\"text-align: right;\">\n",
       "      <th></th>\n",
       "      <th>SalePrice</th>\n",
       "    </tr>\n",
       "  </thead>\n",
       "  <tbody>\n",
       "    <tr>\n",
       "      <th>count</th>\n",
       "      <td>1459.000000</td>\n",
       "    </tr>\n",
       "    <tr>\n",
       "      <th>mean</th>\n",
       "      <td>177014.085956</td>\n",
       "    </tr>\n",
       "    <tr>\n",
       "      <th>std</th>\n",
       "      <td>68383.884682</td>\n",
       "    </tr>\n",
       "    <tr>\n",
       "      <th>min</th>\n",
       "      <td>52853.578558</td>\n",
       "    </tr>\n",
       "    <tr>\n",
       "      <th>25%</th>\n",
       "      <td>127367.627559</td>\n",
       "    </tr>\n",
       "    <tr>\n",
       "      <th>50%</th>\n",
       "      <td>161128.263778</td>\n",
       "    </tr>\n",
       "    <tr>\n",
       "      <th>75%</th>\n",
       "      <td>206421.289419</td>\n",
       "    </tr>\n",
       "    <tr>\n",
       "      <th>max</th>\n",
       "      <td>470441.996601</td>\n",
       "    </tr>\n",
       "  </tbody>\n",
       "</table>\n",
       "</div>"
      ],
      "text/plain": [
       "           SalePrice\n",
       "count    1459.000000\n",
       "mean   177014.085956\n",
       "std     68383.884682\n",
       "min     52853.578558\n",
       "25%    127367.627559\n",
       "50%    161128.263778\n",
       "75%    206421.289419\n",
       "max    470441.996601"
      ]
     },
     "execution_count": 41,
     "metadata": {},
     "output_type": "execute_result"
    }
   ],
   "source": [
    "y_test.describe()"
   ]
  },
  {
   "cell_type": "code",
   "execution_count": null,
   "metadata": {
    "collapsed": true
   },
   "outputs": [],
   "source": []
  }
 ],
 "metadata": {
  "kernelspec": {
   "display_name": "Python 3",
   "language": "python",
   "name": "python3"
  },
  "language_info": {
   "codemirror_mode": {
    "name": "ipython",
    "version": 3
   },
   "file_extension": ".py",
   "mimetype": "text/x-python",
   "name": "python",
   "nbconvert_exporter": "python",
   "pygments_lexer": "ipython3",
   "version": "3.5.3"
  }
 },
 "nbformat": 4,
 "nbformat_minor": 2
}
