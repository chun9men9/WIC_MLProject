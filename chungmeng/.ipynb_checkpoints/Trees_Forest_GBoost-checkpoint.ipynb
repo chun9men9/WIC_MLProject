{
 "cells": [
  {
   "cell_type": "markdown",
   "metadata": {},
   "source": [
    "# Kaggle House Price Challenge (Ames, Iowa) : \n",
    "<p><a name=\"sections\"></a></p>\n",
    "\n",
    "## Sections\n",
    "\n",
    "- <a href=\"#trees\">Decision Trees</a><br>\n",
    " - <a href=\"#trees_plot\">Plots: Sweep Hyperparameter</a><br>\n",
    " - <a href=\"#trees_cvgrid\">CV Grid Search</a><br>\n",
    " - <a href=\"#trees_plot\">Plot: Variable Importance</a><br>\n",
    "- <a href=\"#forest\">Random Forests</a><br>\n",
    " - <a href=\"#forest_plot\">Plots: Sweep Hyperparameter</a><br>\n",
    " - <a href=\"#forest_cvgrid\">CV Grid Search</a><br>\n",
    "- <a href=\"#gboost\">Gradient Boosting</a><br>\n",
    " - <a href=\"#gboost_plot\">Plots: Sweep Hyperparameter</a><br>\n",
    " - <a href=\"#gboost_cvgrid\">CV Grid Search</a><br>\n",
    "- <a href=\"#kaggle\">Kaggle Submissions</a><br>\n",
    " - <a href=\"#kaggle_trees\">Best Predictions : Decision Trees</a><br>\n",
    " - <a href=\"#kaggle_forest\">Best Predictions : Random Forests</a><br>\n",
    " - <a href=\"#kaggle_gboost\">Best Predictions : Gradient Boosting</a><br>\n",
    " - <a href=\"#kaggle_result\">Kaggle Results : Root-Mean-Square-Log-Error</a><br>"
   ]
  },
  {
   "cell_type": "code",
   "execution_count": 284,
   "metadata": {},
   "outputs": [],
   "source": [
    "import pandas as pd\n",
    "import numpy as np\n",
    "import math\n",
    "\n",
    "from sklearn.ensemble import RandomForestRegressor, GradientBoostingRegressor\n",
    "from sklearn.preprocessing import LabelEncoder\n",
    "from sklearn.preprocessing import Normalizer\n",
    "from sklearn.cross_validation import cross_val_score\n",
    "from sklearn.preprocessing import Imputer\n",
    "from sklearn.model_selection import train_test_split\n",
    "from sklearn import tree\n",
    "from scipy.stats import skew\n",
    "\n",
    "import seaborn as sns\n",
    "import matplotlib.pyplot as plt\n",
    "%matplotlib inline\n",
    "\n",
    "plt.style.use('ggplot')"
   ]
  },
  {
   "cell_type": "code",
   "execution_count": 40,
   "metadata": {
    "collapsed": true
   },
   "outputs": [],
   "source": [
    "pd.set_option('display.max_columns', 100)\n",
    "\n",
    "train_df = pd.read_csv('../data/train.csv')\n",
    "test_df = pd.read_csv('../data/test.csv')"
   ]
  },
  {
   "cell_type": "code",
   "execution_count": 41,
   "metadata": {
    "collapsed": true
   },
   "outputs": [],
   "source": [
    "# Save the 'Id' column\n",
    "train_ID = train_df['Id']\n",
    "test_ID = test_df['Id']\n",
    "\n",
    "# Now drop the 'Id' colum since we can not use it as a feature to train our model.\n",
    "train_df.drop(\"Id\", axis = 1, inplace = True)\n",
    "test_df.drop(\"Id\", axis = 1, inplace = True)"
   ]
  },
  {
   "cell_type": "code",
   "execution_count": 42,
   "metadata": {
    "collapsed": true
   },
   "outputs": [],
   "source": [
    "def is_outlier(points, thresh = 3.5):\n",
    "    if len(points.shape) == 1:\n",
    "        points = points[:,None]\n",
    "    median = np.median(points, axis=0)\n",
    "    diff = np.sum((points - median)**2, axis=-1)\n",
    "    diff = np.sqrt(diff)\n",
    "    med_abs_deviation = np.median(diff)\n",
    "\n",
    "    modified_z_score = 0.6745 * diff / med_abs_deviation\n",
    "\n",
    "    return modified_z_score > thresh"
   ]
  },
  {
   "cell_type": "code",
   "execution_count": 43,
   "metadata": {
    "collapsed": true
   },
   "outputs": [],
   "source": [
    "Y_TRAIN= train_df['SalePrice']\n",
    "X_TRAIN = train_df.drop('SalePrice', axis=1)\n",
    "X_TEST = test_df.copy()"
   ]
  },
  {
   "cell_type": "code",
   "execution_count": 44,
   "metadata": {},
   "outputs": [
    {
     "name": "stdout",
     "output_type": "stream",
     "text": [
      "(1460, 79)\n",
      "(1459, 79)\n"
     ]
    }
   ],
   "source": [
    "#del train_df, test_df\n",
    "print(X_TRAIN.shape)\n",
    "print(X_TEST.shape)"
   ]
  },
  {
   "cell_type": "code",
   "execution_count": 45,
   "metadata": {
    "collapsed": true
   },
   "outputs": [],
   "source": [
    "Y_TRAIN=np.log(Y_TRAIN)\n",
    "#print(Y_TRAIN)"
   ]
  },
  {
   "cell_type": "code",
   "execution_count": 46,
   "metadata": {},
   "outputs": [
    {
     "data": {
      "text/plain": [
       "(2919, 79)"
      ]
     },
     "execution_count": 46,
     "metadata": {},
     "output_type": "execute_result"
    }
   ],
   "source": [
    "all_data = pd.concat([X_TRAIN, X_TEST])\n",
    "all_data.shape"
   ]
  },
  {
   "cell_type": "markdown",
   "metadata": {},
   "source": [
    "#### Find all Categorical Data"
   ]
  },
  {
   "cell_type": "code",
   "execution_count": 47,
   "metadata": {
    "collapsed": true
   },
   "outputs": [],
   "source": [
    "cats = []\n",
    "for col in all_data.columns.values:\n",
    "    if all_data[col].dtype == 'object':\n",
    "        cats.append(col)"
   ]
  },
  {
   "cell_type": "markdown",
   "metadata": {},
   "source": [
    "#### Create Separate Continuous Data"
   ]
  },
  {
   "cell_type": "code",
   "execution_count": 48,
   "metadata": {
    "collapsed": true
   },
   "outputs": [],
   "source": [
    "df_cont = all_data.drop(cats, axis=1)\n",
    "df_cat = all_data[cats]"
   ]
  },
  {
   "cell_type": "markdown",
   "metadata": {},
   "source": [
    "### Handle Missing Data for continuous data\n",
    "- If any column contains more than 50 entries of missing data, drop the column\n",
    "- If any column contains fewer that 50 entries of missing data, replace those missing values with the median for that column\n",
    "- Remove outliers using Median Absolute Deviation\n",
    "- Calculate skewness for each variable and if greater than 0.75 transform it\n",
    "- Apply the sklearn.Normalizer to each column"
   ]
  },
  {
   "cell_type": "code",
   "execution_count": 49,
   "metadata": {},
   "outputs": [
    {
     "name": "stderr",
     "output_type": "stream",
     "text": [
      "C:\\Users\\cmlim\\Anaconda2\\envs\\py35\\lib\\site-packages\\pandas\\core\\indexing.py:179: SettingWithCopyWarning: \n",
      "A value is trying to be set on a copy of a slice from a DataFrame\n",
      "\n",
      "See the caveats in the documentation: http://pandas.pydata.org/pandas-docs/stable/indexing.html#indexing-view-versus-copy\n",
      "  self._setitem_with_indexer(indexer, value)\n",
      "C:\\Users\\cmlim\\Anaconda2\\envs\\py35\\lib\\site-packages\\ipykernel_launcher.py:9: RuntimeWarning: divide by zero encountered in true_divide\n",
      "  if __name__ == '__main__':\n",
      "C:\\Users\\cmlim\\Anaconda2\\envs\\py35\\lib\\site-packages\\ipykernel_launcher.py:9: RuntimeWarning: invalid value encountered in true_divide\n",
      "  if __name__ == '__main__':\n",
      "C:\\Users\\cmlim\\Anaconda2\\envs\\py35\\lib\\site-packages\\ipykernel_launcher.py:11: RuntimeWarning: invalid value encountered in greater\n",
      "  # This is added back by InteractiveShellApp.init_path()\n",
      "C:\\Users\\cmlim\\Anaconda2\\envs\\py35\\lib\\site-packages\\ipykernel_launcher.py:16: FutureWarning: reshape is deprecated and will raise in a subsequent release. Please use .values.reshape(...) instead\n",
      "  app.launch_new_instance()\n",
      "C:\\Users\\cmlim\\Anaconda2\\envs\\py35\\lib\\site-packages\\ipykernel_launcher.py:13: RuntimeWarning: divide by zero encountered in log\n",
      "  del sys.path[0]\n"
     ]
    }
   ],
   "source": [
    "for col in df_cont.columns.values:\n",
    "    if np.sum(df_cont[col].isnull()) > 50:\n",
    "        df_cont = df_cont.drop(col, axis = 1)\n",
    "    elif np.sum(df_cont[col].isnull()) > 0:\n",
    "        median = df_cont[col].median()\n",
    "        idx = np.where(df_cont[col].isnull())[0]\n",
    "        df_cont[col].iloc[idx] = median\n",
    "\n",
    "        outliers = np.where(is_outlier(df_cont[col]))\n",
    "        df_cont[col].iloc[outliers] = median\n",
    "        \n",
    "        if skew(df_cont[col]) > 0.75:\n",
    "            df_cont[col] = np.log(df_cont[col])\n",
    "            df_cont[col] = df_cont[col].apply(lambda x: 0 if x == -np.inf else x)\n",
    "        \n",
    "        df_cont[col] = Normalizer().fit_transform(df_cont[col].reshape(1,-1))[0]"
   ]
  },
  {
   "cell_type": "markdown",
   "metadata": {},
   "source": [
    "\n",
    "#### Handle Missing Data for Categorical Data\n",
    "\n",
    "- If any column contains more than 50 entries of missing data, drop the column\n",
    "- If any column contains fewer that 50 entries of missing data, replace those values with the 'MIA'\n",
    "- Apply the sklearn.LabelEncoder\n",
    "- For each categorical variable determine the number of unique values and for each, create a new column that is binary\n",
    "\n"
   ]
  },
  {
   "cell_type": "code",
   "execution_count": 50,
   "metadata": {},
   "outputs": [
    {
     "name": "stderr",
     "output_type": "stream",
     "text": [
      "C:\\Users\\cmlim\\Anaconda2\\envs\\py35\\lib\\site-packages\\ipykernel_launcher.py:6: SettingWithCopyWarning: \n",
      "A value is trying to be set on a copy of a slice from a DataFrame.\n",
      "Try using .loc[row_indexer,col_indexer] = value instead\n",
      "\n",
      "See the caveats in the documentation: http://pandas.pydata.org/pandas-docs/stable/indexing.html#indexing-view-versus-copy\n",
      "  \n",
      "C:\\Users\\cmlim\\Anaconda2\\envs\\py35\\lib\\site-packages\\ipykernel_launcher.py:8: SettingWithCopyWarning: \n",
      "A value is trying to be set on a copy of a slice from a DataFrame.\n",
      "Try using .loc[row_indexer,col_indexer] = value instead\n",
      "\n",
      "See the caveats in the documentation: http://pandas.pydata.org/pandas-docs/stable/indexing.html#indexing-view-versus-copy\n",
      "  \n",
      "C:\\Users\\cmlim\\Anaconda2\\envs\\py35\\lib\\site-packages\\ipykernel_launcher.py:13: SettingWithCopyWarning: \n",
      "A value is trying to be set on a copy of a slice from a DataFrame.\n",
      "Try using .loc[row_indexer,col_indexer] = value instead\n",
      "\n",
      "See the caveats in the documentation: http://pandas.pydata.org/pandas-docs/stable/indexing.html#indexing-view-versus-copy\n",
      "  del sys.path[0]\n"
     ]
    }
   ],
   "source": [
    "for col in df_cat.columns.values:\n",
    "    if np.sum(df_cat[col].isnull()) > 50:\n",
    "        df_cat = df_cat.drop(col, axis = 1)\n",
    "        continue\n",
    "    elif np.sum(df_cat[col].isnull()) > 0:\n",
    "        df_cat[col] = df_cat[col].fillna('MIA')\n",
    "        \n",
    "    df_cat[col] = LabelEncoder().fit_transform(df_cat[col])\n",
    "    \n",
    "    num_cols = df_cat[col].max()\n",
    "    for i in range(num_cols):\n",
    "        col_name = col + '_' + str(i)\n",
    "        df_cat[col_name] = df_cat[col].apply(lambda x: 1 if x == i else 0)\n",
    "        \n",
    "    df_cat = df_cat.drop(col, axis = 1)"
   ]
  },
  {
   "cell_type": "code",
   "execution_count": 51,
   "metadata": {},
   "outputs": [
    {
     "data": {
      "text/plain": [
       "(2919, 34)"
      ]
     },
     "execution_count": 51,
     "metadata": {},
     "output_type": "execute_result"
    }
   ],
   "source": [
    "df_cont.shape"
   ]
  },
  {
   "cell_type": "code",
   "execution_count": 52,
   "metadata": {},
   "outputs": [
    {
     "data": {
      "text/plain": [
       "(2919, 171)"
      ]
     },
     "execution_count": 52,
     "metadata": {},
     "output_type": "execute_result"
    }
   ],
   "source": [
    "df_cat.shape\n"
   ]
  },
  {
   "cell_type": "code",
   "execution_count": 53,
   "metadata": {
    "collapsed": true
   },
   "outputs": [],
   "source": [
    "all_data=pd.concat([df_cont, df_cat], axis = 1)\n",
    "X_TRAIN = all_data.iloc[0:1460,]\n",
    "X_TEST = all_data.iloc[1460:,]"
   ]
  },
  {
   "cell_type": "code",
   "execution_count": 54,
   "metadata": {},
   "outputs": [
    {
     "name": "stdout",
     "output_type": "stream",
     "text": [
      "(1460, 205)\n",
      "(1460,)\n",
      "(1459, 205)\n"
     ]
    }
   ],
   "source": [
    "print(X_TRAIN.shape)\n",
    "print(Y_TRAIN.shape)\n",
    "print(X_TEST.shape)"
   ]
  },
  {
   "cell_type": "markdown",
   "metadata": {},
   "source": [
    "### Create Test/Train Split"
   ]
  },
  {
   "cell_type": "code",
   "execution_count": 55,
   "metadata": {},
   "outputs": [
    {
     "name": "stdout",
     "output_type": "stream",
     "text": [
      "(1095, 205)\n",
      "(1095,)\n",
      "(365, 205)\n",
      "(365,)\n"
     ]
    }
   ],
   "source": [
    "x_train, x_test, y_train, y_test = train_test_split(X_TRAIN, Y_TRAIN, test_size = .25, random_state=5)\n",
    "print(x_train.shape)\n",
    "print(y_train.shape)\n",
    "print(x_test.shape)\n",
    "print(y_test.shape)"
   ]
  },
  {
   "cell_type": "code",
   "execution_count": 335,
   "metadata": {},
   "outputs": [
    {
     "data": {
      "text/plain": [
       "DecisionTreeRegressor(criterion='mse', max_depth=9, max_features=None,\n",
       "           max_leaf_nodes=None, min_impurity_split=1e-07,\n",
       "           min_samples_leaf=10, min_samples_split=2,\n",
       "           min_weight_fraction_leaf=0.0, presort=False, random_state=None,\n",
       "           splitter='best')"
      ]
     },
     "execution_count": 335,
     "metadata": {},
     "output_type": "execute_result"
    }
   ],
   "source": [
    "tree_model = tree.DecisionTreeRegressor(min_samples_leaf=10,max_depth=9)\n",
    "tree_model.fit(x_train,y_train)"
   ]
  },
  {
   "cell_type": "code",
   "execution_count": 60,
   "metadata": {},
   "outputs": [],
   "source": [
    "#tree_model.feature_importances_"
   ]
  },
  {
   "cell_type": "code",
   "execution_count": 96,
   "metadata": {},
   "outputs": [
    {
     "data": {
      "text/plain": [
       "0.19100427008847184"
      ]
     },
     "execution_count": 96,
     "metadata": {},
     "output_type": "execute_result"
    }
   ],
   "source": [
    "calc_rmsle(tree_model,x_test,y_test)"
   ]
  },
  {
   "cell_type": "markdown",
   "metadata": {},
   "source": [
    "<p><a name=\"trees\"></a></p>\n",
    "## Decision Trees"
   ]
  },
  {
   "cell_type": "code",
   "execution_count": 98,
   "metadata": {
    "collapsed": true
   },
   "outputs": [],
   "source": [
    "def calc_rmsle (tree_model, x_input, y_input):\n",
    "    msle=np.mean(( y_input-tree_model.predict(x_input))** 2)\n",
    "    return(math.sqrt(msle))"
   ]
  },
  {
   "cell_type": "markdown",
   "metadata": {},
   "source": [
    "### Depth of Tree"
   ]
  },
  {
   "cell_type": "code",
   "execution_count": 180,
   "metadata": {},
   "outputs": [],
   "source": [
    "depth = range(1, 18)\n",
    "depth_train_error = []\n",
    "depth_test_error = []\n",
    "tree_model = tree.DecisionTreeRegressor()\n",
    "for i in depth:\n",
    "    tree_model.set_params(max_depth=i, min_samples_leaf=1)\n",
    "    tree_model.fit(x_train, y_train)\n",
    "    depth_train_error.append(calc_rmsle(tree_model,x_train,y_train))\n",
    "    depth_test_error.append(calc_rmsle(tree_model,x_test,y_test))"
   ]
  },
  {
   "cell_type": "markdown",
   "metadata": {},
   "source": [
    "### Minimum Number of Samples per Leaf"
   ]
  },
  {
   "cell_type": "code",
   "execution_count": 182,
   "metadata": {},
   "outputs": [],
   "source": [
    "leaf = range(1, 30)\n",
    "leaf_train_error = []\n",
    "leaf_test_error = []\n",
    "tree_model = tree.DecisionTreeRegressor()\n",
    "for i in leaf:\n",
    "    tree_model.set_params( min_samples_leaf=i)\n",
    "    tree_model.fit(x_train, y_train)\n",
    "    leaf_train_error.append(calc_rmsle(tree_model,x_train,y_train))\n",
    "    leaf_test_error.append(calc_rmsle(tree_model,x_test,y_test))"
   ]
  },
  {
   "cell_type": "markdown",
   "metadata": {},
   "source": [
    "<p><a name=\"trees_plot\"></a></p>\n",
    "### Plots : Sweep Tree Depth & Minimum Sample per Leaf "
   ]
  },
  {
   "cell_type": "code",
   "execution_count": 193,
   "metadata": {},
   "outputs": [
    {
     "data": {
      "image/png": "[encoded data removed]",
      "text/plain": [
       "<matplotlib.figure.Figure at 0x1d8c50f4c50>"
      ]
     },
     "metadata": {},
     "output_type": "display_data"
    }
   ],
   "source": [
    "fig, ax = plt.subplots(nrows=1, ncols=2, figsize=(16, 6))\n",
    "#plt.figure(figsize=(9, 6))\n",
    "plt.subplot(1, 2, 1)\n",
    "#plt.fig\n",
    "plt.plot(depth, depth_train_error, c='red', label='training error')\n",
    "plt.plot(depth, depth_test_error, c='blue', label='test error')\n",
    "plt.legend()\n",
    "plt.ylabel('RMSLE of Sale Price')\n",
    "plt.xlabel('Tree Depth')\n",
    "plt.title('Root Mean Squared Log Error vs Depth of Tree')\n",
    "\n",
    "plt.subplot(1, 2, 2)\n",
    "plt.plot(min_leaf, leaf_train_error, c='red', label='training error')\n",
    "plt.plot(min_leaf, leaf_test_error, c='blue', label='test error')\n",
    "plt.legend()\n",
    "plt.ylabel('RMSLE of Sale Price')\n",
    "plt.xlabel('# Min Sample/Leaf')\n",
    "plt.title('Root Mean Squared Log Error vs Minimum Sample per Leaf')\n",
    "plt.show()"
   ]
  },
  {
   "cell_type": "markdown",
   "metadata": {},
   "source": [
    "<p><a name=\"trees_cvgrid\"></a></p>\n",
    "### CV Grid Search for Decision Tree"
   ]
  },
  {
   "cell_type": "code",
   "execution_count": 261,
   "metadata": {},
   "outputs": [
    {
     "name": "stdout",
     "output_type": "stream",
     "text": [
      "Wall time: 22.9 s\n"
     ]
    },
    {
     "data": {
      "text/plain": [
       "GridSearchCV(cv=5, error_score='raise',\n",
       "       estimator=DecisionTreeRegressor(criterion='mse', max_depth=None, max_features=None,\n",
       "           max_leaf_nodes=None, min_impurity_split=1e-07,\n",
       "           min_samples_leaf=29, min_samples_split=2,\n",
       "           min_weight_fraction_leaf=0.0, presort=False, random_state=0,\n",
       "           splitter='best'),\n",
       "       fit_params={}, iid=True, n_jobs=-1,\n",
       "       param_grid=[{'criterion': ['mse'], 'min_samples_leaf': array([ 2,  4,  6,  8, 10, 12, 14, 16, 18, 20, 22, 24, 26, 28, 30]), 'max_depth': range(1, 30)}],\n",
       "       pre_dispatch='2*n_jobs', refit=True, return_train_score=True,\n",
       "       scoring='neg_mean_squared_error', verbose=0)"
      ]
     },
     "execution_count": 261,
     "metadata": {},
     "output_type": "execute_result"
    }
   ],
   "source": [
    "from sklearn.model_selection import GridSearchCV\n",
    "grid_para_tree = [{\n",
    "    \"criterion\": [\"mse\"],\n",
    "    \"max_depth\": range(1, 30),\n",
    "    \"min_samples_leaf\": np.linspace(start=2, stop=30, num=15, dtype=int)\n",
    "}]\n",
    "tree_model.set_params(random_state=0)\n",
    "grid_search_tree = GridSearchCV(tree_model, grid_para_tree, cv=5,scoring='neg_mean_squared_error', n_jobs=-1)\n",
    "%time grid_search_tree.fit(x_train, y_train)"
   ]
  },
  {
   "cell_type": "code",
   "execution_count": 262,
   "metadata": {},
   "outputs": [
    {
     "name": "stdout",
     "output_type": "stream",
     "text": [
      "{'criterion': 'mse', 'min_samples_leaf': 10, 'max_depth': 9}\n"
     ]
    },
    {
     "data": {
      "text/plain": [
       "0.19100427008847184"
      ]
     },
     "execution_count": 262,
     "metadata": {},
     "output_type": "execute_result"
    }
   ],
   "source": [
    "## best parameters\n",
    "print(grid_search_tree.best_params_)\n",
    "best_tree_model=grid_search_tree\n",
    "calc_rmsle(best_tree_model,x_test,y_test)"
   ]
  },
  {
   "cell_type": "code",
   "execution_count": 263,
   "metadata": {},
   "outputs": [
    {
     "name": "stdout",
     "output_type": "stream",
     "text": [
      "0.1374470662167449\n",
      "0.19100427008847184\n"
     ]
    }
   ],
   "source": [
    "best_tree_model.predict(x_test)\n",
    "rmsle_best_tree_train=calc_rmsle(best_tree_model,x_train,y_train)\n",
    "rmsle_best_tree_test=calc_rmsle(best_tree_model,x_test,y_test)\n",
    "print(rmsle_best_tree_train)\n",
    "print(rmsle_best_tree_test)"
   ]
  },
  {
   "cell_type": "markdown",
   "metadata": {},
   "source": [
    "<p><a name=\"trees_plot2\"></a></p>\n",
    "### Plot: Feature Importance"
   ]
  },
  {
   "cell_type": "code",
   "execution_count": 169,
   "metadata": {},
   "outputs": [],
   "source": [
    "feature_importance = list(zip(x_train.columns, best_tree_model.feature_importances_))\n",
    "dtype = [('feature', 'S10'), ('importance', 'float')]\n",
    "feature_importance = np.array(feature_importance, dtype=dtype)\n",
    "feature_sort = np.sort(feature_importance, order='importance')\n",
    "#[::-1]\n",
    "#feature_sort"
   ]
  },
  {
   "cell_type": "code",
   "execution_count": 258,
   "metadata": {},
   "outputs": [
    {
     "data": {
      "text/plain": [
       "<matplotlib.axes._subplots.AxesSubplot at 0x1d8c5a1a4a8>"
      ]
     },
     "execution_count": 258,
     "metadata": {},
     "output_type": "execute_result"
    },
    {
     "data": {
      "image/png": "[encoded data removed]",
      "text/plain": [
       "<matplotlib.figure.Figure at 0x1d8c521a550>"
      ]
     },
     "metadata": {},
     "output_type": "display_data"
    }
   ],
   "source": [
    "feature_name=[i.decode(\"utf-8\") for (i, j) in feature_sort if j>0.01]\n",
    "feature_val=[j for (i, j) in feature_sort if j>0.01]\n",
    "#feature_sort.\n",
    "fimp_df=pd.DataFrame({'Feature':feature_name,'Importance':feature_val}).reset_index(drop=True)\n",
    "#fimp_df.plot.barh(x='Feature',y='Importance')\n",
    "fimp_df.plot(kind='barh',x='Feature',y='Importance',\n",
    "             legend=None, title='Decision Tree Feature Importance Plot')"
   ]
  },
  {
   "cell_type": "code",
   "execution_count": 174,
   "metadata": {
    "collapsed": true
   },
   "outputs": [],
   "source": [
    "pred_df.to_csv('tree.csv',index=None)"
   ]
  },
  {
   "cell_type": "markdown",
   "metadata": {},
   "source": [
    "<p><a name=\"forest\"></a></p>\n",
    "## Random Forest"
   ]
  },
  {
   "cell_type": "code",
   "execution_count": 255,
   "metadata": {
    "collapsed": true
   },
   "outputs": [],
   "source": [
    "rf_model = RandomForestRegressor(n_estimators=500, n_jobs=-1)"
   ]
  },
  {
   "cell_type": "code",
   "execution_count": 256,
   "metadata": {},
   "outputs": [
    {
     "data": {
      "text/plain": [
       "0.13542019178263243"
      ]
     },
     "execution_count": 256,
     "metadata": {},
     "output_type": "execute_result"
    }
   ],
   "source": [
    "rf_model.fit(x_train, y_train)\n",
    "msle=np.mean(( y_test-rf.predict(x_test))** 2)\n",
    "math.sqrt(msle)"
   ]
  },
  {
   "cell_type": "code",
   "execution_count": 215,
   "metadata": {},
   "outputs": [],
   "source": [
    "rf_model = RandomForestRegressor(min_samples_leaf=10,max_depth=9,n_jobs=-1)\n",
    "ntrees_range = range(20, 500, 25)  # OOB score will warning if too few trees\n",
    "ntrees_train_error = []\n",
    "ntrees_test_error = []\n",
    "oob_error = []\n",
    "\n",
    "for ntrees in ntrees_range:\n",
    "    rf_model.set_params(n_estimators=ntrees, random_state=0,  oob_score=True)\n",
    "    rf_model.fit(x_train, y_train)\n",
    "    ntrees_train_error.append(calc_rmsle(rf_model,x_train,y_train))\n",
    "    ntrees_test_error.append(calc_rmsle(rf_model,x_test,y_test))"
   ]
  },
  {
   "cell_type": "markdown",
   "metadata": {},
   "source": [
    "<p><a name=\"forest_plot\"></a></p>\n",
    "### Plot: Sweep Hyperparameter Number of Trees"
   ]
  },
  {
   "cell_type": "code",
   "execution_count": 243,
   "metadata": {},
   "outputs": [
    {
     "data": {
      "image/png": "[encoded data removed]",
      "text/plain": [
       "<matplotlib.figure.Figure at 0x1d8c550e7b8>"
      ]
     },
     "metadata": {},
     "output_type": "display_data"
    }
   ],
   "source": [
    "fig, ax = plt.subplots(nrows=1, ncols=2, figsize=(16, 6))\n",
    "plt.subplot(1, 2, 1)\n",
    "plt.plot(ntrees_range, ntrees_train_error, c='red', label='training error')\n",
    "plt.plot(ntrees_range, ntrees_test_error, c='blue', label='test error')\n",
    "plt.ylabel('Error')\n",
    "plt.xlabel('# Trees')\n",
    "plt.title('Random Forest RMSLE vs Number of Trees')\n",
    "plt.legend()\n",
    "\n",
    "plt.subplot(1, 2, 2)\n",
    "plt.plot(ntrees_range, ntrees_train_error, c='red', label='Random Forest Training Error')\n",
    "plt.plot(ntrees_range, ntrees_test_error, c='blue', label='Random Forest Test error')\n",
    "plt.axhline(y=rmsle_best_tree_train,ls='--',c='red',label='Best Decision Tree Training Error')\n",
    "plt.axhline(y=rmsle_best_tree_test,ls='--',c='blue',label='Best Decision Tree Test Error')\n",
    "rmsle_best_tree_train\n",
    "plt.ylabel('Error')\n",
    "plt.xlabel('# Trees')\n",
    "plt.title('Random Forest RMSLE vs Number of Trees')\n",
    "plt.legend(handles=[rf_train_line], loc=2)\n",
    "plt.legend(handles=[rf_test_line], loc=2)\n",
    "plt.legend(loc=(0.5,0.7))\n",
    "plt.show()"
   ]
  },
  {
   "cell_type": "markdown",
   "metadata": {},
   "source": [
    "<p><a name=\"forest_cvgrid\"></a></p>\n",
    "### CV Grid Search for Random Forest"
   ]
  },
  {
   "cell_type": "code",
   "execution_count": 272,
   "metadata": {},
   "outputs": [
    {
     "name": "stdout",
     "output_type": "stream",
     "text": [
      "Wall time: 1min 32s\n"
     ]
    },
    {
     "data": {
      "text/plain": [
       "GridSearchCV(cv=5, error_score='raise',\n",
       "       estimator=RandomForestRegressor(bootstrap=True, criterion='mse', max_depth=None,\n",
       "           max_features='auto', max_leaf_nodes=None,\n",
       "           min_impurity_split=1e-07, min_samples_leaf=1,\n",
       "           min_samples_split=2, min_weight_fraction_leaf=0.0,\n",
       "           n_estimators=10, n_jobs=-1, oob_score=False, random_state=None,\n",
       "           verbose=0, warm_start=False),\n",
       "       fit_params={}, iid=True, n_jobs=-1,\n",
       "       param_grid=[{'n_estimators': [50, 100, 200, 500], 'min_samples_leaf': array([ 2,  4,  6,  8, 10, 12, 14, 16, 18, 20, 22, 24, 26, 28, 30]), 'criterion': ['mse']}],\n",
       "       pre_dispatch='2*n_jobs', refit=True, return_train_score=True,\n",
       "       scoring='neg_mean_squared_error', verbose=0)"
      ]
     },
     "execution_count": 272,
     "metadata": {},
     "output_type": "execute_result"
    }
   ],
   "source": [
    "grid_search_forest = RandomForestRegressor(n_jobs=-1)\n",
    "grid_para_forest = [{\n",
    "    \"n_estimators\": [50, 100,200,500],\n",
    "    \"criterion\": [\"mse\"],\n",
    "    \"min_samples_leaf\": np.linspace(start=2, stop=30, num=15, dtype=int)\n",
    "    }]\n",
    "grid_search_forest = GridSearchCV(grid_search_forest, grid_para_forest, \n",
    "                                  scoring='neg_mean_squared_error', cv=5, n_jobs=-1)\n",
    "%time grid_search_forest.fit(x_train, y_train)"
   ]
  },
  {
   "cell_type": "code",
   "execution_count": 273,
   "metadata": {},
   "outputs": [
    {
     "name": "stdout",
     "output_type": "stream",
     "text": [
      "{'criterion': 'mse', 'n_estimators': 100, 'min_samples_leaf': 2}\n"
     ]
    }
   ],
   "source": [
    "## best parameters\n",
    "print(grid_search_forest.best_params_)\n",
    "best_forest_model=grid_search_forest"
   ]
  },
  {
   "cell_type": "code",
   "execution_count": 274,
   "metadata": {},
   "outputs": [
    {
     "name": "stdout",
     "output_type": "stream",
     "text": [
      "0.06853149227853164\n",
      "0.13721319190402384\n"
     ]
    }
   ],
   "source": [
    "best_forest_model.predict(x_test)\n",
    "rmsle_best_forest_train=calc_rmsle(best_forest_model,x_train,y_train)\n",
    "rmsle_best_forest_test=calc_rmsle(best_forest_model,x_test,y_test)\n",
    "print(rmsle_best_forest_train)\n",
    "print(rmsle_best_forest_test)"
   ]
  },
  {
   "cell_type": "markdown",
   "metadata": {},
   "source": [
    "<p><a name=\"gboost\"></a></p>\n",
    "## Gradient Boosting"
   ]
  },
  {
   "cell_type": "code",
   "execution_count": 320,
   "metadata": {},
   "outputs": [
    {
     "name": "stdout",
     "output_type": "stream",
     "text": [
      "[0.0001, 0.00017782794100389227, 0.00031622776601683794, 0.0005623413251903491, 0.001, 0.0017782794100389228, 0.0031622776601683794, 0.005623413251903491, 0.01, 0.017782794100389229, 0.031622776601683791, 0.056234132519034911, 0.10000000000000001, 0.17782794100389229, 0.31622776601683794, 0.56234132519034907]\n"
     ]
    }
   ],
   "source": [
    "print(learnrate_range)"
   ]
  },
  {
   "cell_type": "code",
   "execution_count": 314,
   "metadata": {
    "collapsed": true
   },
   "outputs": [],
   "source": [
    "gboost_model = GradientBoostingRegressor()\n",
    "learnrate_range = learnrate_range = [10**i for i in np.arange(-4.,0,.25)]\n",
    "#print(learnrate_range)\n",
    "gboost_train_error = []\n",
    "gboost_test_error = []\n",
    "oob_error = []\n",
    "\n",
    "for learnrate in learnrate_range:\n",
    "    gboost_model.set_params(learning_rate=learnrate, random_state=0,n_estimators=100)\n",
    "    gboost_model.fit(x_train, y_train)\n",
    "    gboost_train_error.append(calc_rmsle(gboost_model,x_train,y_train))\n",
    "    gboost_test_error.append(calc_rmsle(gboost_model,x_test,y_test))"
   ]
  },
  {
   "cell_type": "code",
   "execution_count": 318,
   "metadata": {},
   "outputs": [
    {
     "data": {
      "text/plain": [
       "<matplotlib.legend.Legend at 0x1d8c59d80f0>"
      ]
     },
     "execution_count": 318,
     "metadata": {},
     "output_type": "execute_result"
    },
    {
     "data": {
      "image/png": "[encoded data removed]",
      "text/plain": [
       "<matplotlib.figure.Figure at 0x1d8c5b226a0>"
      ]
     },
     "metadata": {},
     "output_type": "display_data"
    }
   ],
   "source": [
    "fig, ax = plt.subplots(nrows=1, ncols=2, figsize=(16, 6))\n",
    "plt.subplot(1, 2, 1)\n",
    "plt.plot(learnrate_range, gboost_train_error, c='red', label='training error')\n",
    "plt.plot(learnrate_range, gboost_test_error, c='blue', label='test error')\n",
    "plt.ylabel('Error')\n",
    "plt.xlabel('Learning Rate')\n",
    "plt.title('Gradient Boosted RMSLE vs Learning Rate')\n",
    "plt.legend()\n",
    "\n",
    "plt.subplot(1, 2, 2)\n",
    "plt.plot(learnrate_range, gboost_train_error, c='red', label='training error')\n",
    "plt.plot(learnrate_range, gboost_test_error, c='blue', label='test error')\n",
    "plt.axhline(y=rmsle_best_forest_train,ls='--',c='red',label='Best Random Forest Training Error')\n",
    "plt.axhline(y=rmsle_best_forest_test,ls='--',c='blue',label='Best Random Forest Test Error')\n",
    "plt.ylabel('Error')\n",
    "plt.xlabel('Learning Rate')\n",
    "plt.title('Gradient Boosted RMSLE vs Learning Rate')\n",
    "plt.xlim([0,0.15])\n",
    "plt.legend()"
   ]
  },
  {
   "cell_type": "markdown",
   "metadata": {},
   "source": [
    "<p><a name=\"gboost_cvgrid\"></a></p>\n",
    "### CV Grid Search for Gradient Boosting"
   ]
  },
  {
   "cell_type": "code",
   "execution_count": 330,
   "metadata": {},
   "outputs": [
    {
     "name": "stdout",
     "output_type": "stream",
     "text": [
      "Wall time: 45.1 s\n"
     ]
    },
    {
     "data": {
      "text/plain": [
       "GridSearchCV(cv=5, error_score='raise',\n",
       "       estimator=GradientBoostingRegressor(alpha=0.9, criterion='friedman_mse', init=None,\n",
       "             learning_rate=0.1, loss='ls', max_depth=3, max_features=None,\n",
       "             max_leaf_nodes=None, min_impurity_split=1e-07,\n",
       "             min_samples_leaf=1, min_samples_split=2,\n",
       "             min_weight_fraction_leaf=0.0, n_estimators=100,\n",
       "             presort='auto', random_state=None, subsample=1.0, verbose=0,\n",
       "             warm_start=False),\n",
       "       fit_params={}, iid=True, n_jobs=-1,\n",
       "       param_grid=[{'learning_rate': [0.01, 0.05, 0.1, 0.15, 0.2, 0.25], 'n_estimators': [50, 100, 200, 300, 500]}],\n",
       "       pre_dispatch='2*n_jobs', refit=True, return_train_score=True,\n",
       "       scoring='neg_mean_squared_error', verbose=0)"
      ]
     },
     "execution_count": 330,
     "metadata": {},
     "output_type": "execute_result"
    }
   ],
   "source": [
    "grid_search_gboost = GradientBoostingRegressor()\n",
    "grid_para_gboost = [{\n",
    "    \"learning_rate\": [0.01,0.05,0.1,0.15,0.2,0.25],\n",
    "    \"n_estimators\": [50, 100, 200, 300, 500]\n",
    "    #\"max_depth\": range(1, 30),\n",
    "    #\"min_samples_leaf\": np.linspace(start=2, stop=30, num=15, dtype=int)\n",
    "    }]\n",
    "grid_search_gboost = GridSearchCV(grid_search_gboost, grid_para_gboost, \n",
    "                                  scoring='neg_mean_squared_error', cv=5, n_jobs=-1)\n",
    "%time grid_search_gboost.fit(x_train, y_train)"
   ]
  },
  {
   "cell_type": "code",
   "execution_count": 331,
   "metadata": {},
   "outputs": [
    {
     "name": "stdout",
     "output_type": "stream",
     "text": [
      "{'learning_rate': 0.05, 'n_estimators': 500}\n"
     ]
    }
   ],
   "source": [
    "print(grid_search_gboost.best_params_)\n",
    "best_gboost_model=grid_search_gboost"
   ]
  },
  {
   "cell_type": "code",
   "execution_count": 332,
   "metadata": {},
   "outputs": [
    {
     "name": "stdout",
     "output_type": "stream",
     "text": [
      "0.05812508902694144\n",
      "0.11789364092116067\n"
     ]
    }
   ],
   "source": [
    "best_gboost_model.predict(x_test)\n",
    "rmsle_best_gboost_train=calc_rmsle(best_gboost_model,x_train,y_train)\n",
    "rmsle_best_gboost_test=calc_rmsle(best_gboost_model,x_test,y_test)\n",
    "print(rmsle_best_gboost_train)\n",
    "print(rmsle_best_gboost_test)"
   ]
  },
  {
   "cell_type": "markdown",
   "metadata": {},
   "source": [
    "<p><a name=\"kaggle\"></a></p>\n",
    "## Kaggle Submission"
   ]
  },
  {
   "cell_type": "markdown",
   "metadata": {},
   "source": [
    "<p><a name=\"kaggle_trees\"></a></p>\n",
    "### Best Model Decision Tree"
   ]
  },
  {
   "cell_type": "code",
   "execution_count": 281,
   "metadata": {},
   "outputs": [
    {
     "data": {
      "text/html": [
       "<div>\n",
       "<style>\n",
       "    .dataframe thead tr:only-child th {\n",
       "        text-align: right;\n",
       "    }\n",
       "\n",
       "    .dataframe thead th {\n",
       "        text-align: left;\n",
       "    }\n",
       "\n",
       "    .dataframe tbody tr th {\n",
       "        vertical-align: top;\n",
       "    }\n",
       "</style>\n",
       "<table border=\"1\" class=\"dataframe\">\n",
       "  <thead>\n",
       "    <tr style=\"text-align: right;\">\n",
       "      <th></th>\n",
       "      <th>Id</th>\n",
       "      <th>SalePrice</th>\n",
       "    </tr>\n",
       "  </thead>\n",
       "  <tbody>\n",
       "    <tr>\n",
       "      <th>0</th>\n",
       "      <td>1461</td>\n",
       "      <td>126653.495820</td>\n",
       "    </tr>\n",
       "    <tr>\n",
       "      <th>1</th>\n",
       "      <td>1462</td>\n",
       "      <td>183453.357033</td>\n",
       "    </tr>\n",
       "    <tr>\n",
       "      <th>2</th>\n",
       "      <td>1463</td>\n",
       "      <td>168476.140687</td>\n",
       "    </tr>\n",
       "    <tr>\n",
       "      <th>3</th>\n",
       "      <td>1464</td>\n",
       "      <td>207746.422842</td>\n",
       "    </tr>\n",
       "    <tr>\n",
       "      <th>4</th>\n",
       "      <td>1465</td>\n",
       "      <td>198692.414590</td>\n",
       "    </tr>\n",
       "  </tbody>\n",
       "</table>\n",
       "</div>"
      ],
      "text/plain": [
       "     Id      SalePrice\n",
       "0  1461  126653.495820\n",
       "1  1462  183453.357033\n",
       "2  1463  168476.140687\n",
       "3  1464  207746.422842\n",
       "4  1465  198692.414590"
      ]
     },
     "execution_count": 281,
     "metadata": {},
     "output_type": "execute_result"
    }
   ],
   "source": [
    "trees_pred=np.exp(best_tree_model.predict(X_TEST))\n",
    "kaggle_trees_df=pd.DataFrame({'Id':test_ID,'SalePrice':trees_pred})\n",
    "kaggle_trees_df.to_csv('kaggle_trees_df.csv',index=None)\n",
    "kaggle_trees_df.head()"
   ]
  },
  {
   "cell_type": "markdown",
   "metadata": {},
   "source": [
    "<p><a name=\"kaggle_forest\"></a></p>\n",
    "### Best Model Random Forest"
   ]
  },
  {
   "cell_type": "code",
   "execution_count": 282,
   "metadata": {},
   "outputs": [
    {
     "data": {
      "text/html": [
       "<div>\n",
       "<style>\n",
       "    .dataframe thead tr:only-child th {\n",
       "        text-align: right;\n",
       "    }\n",
       "\n",
       "    .dataframe thead th {\n",
       "        text-align: left;\n",
       "    }\n",
       "\n",
       "    .dataframe tbody tr th {\n",
       "        vertical-align: top;\n",
       "    }\n",
       "</style>\n",
       "<table border=\"1\" class=\"dataframe\">\n",
       "  <thead>\n",
       "    <tr style=\"text-align: right;\">\n",
       "      <th></th>\n",
       "      <th>Id</th>\n",
       "      <th>SalePrice</th>\n",
       "    </tr>\n",
       "  </thead>\n",
       "  <tbody>\n",
       "    <tr>\n",
       "      <th>0</th>\n",
       "      <td>1461</td>\n",
       "      <td>129330.422500</td>\n",
       "    </tr>\n",
       "    <tr>\n",
       "      <th>1</th>\n",
       "      <td>1462</td>\n",
       "      <td>159727.943250</td>\n",
       "    </tr>\n",
       "    <tr>\n",
       "      <th>2</th>\n",
       "      <td>1463</td>\n",
       "      <td>173488.318530</td>\n",
       "    </tr>\n",
       "    <tr>\n",
       "      <th>3</th>\n",
       "      <td>1464</td>\n",
       "      <td>180255.467416</td>\n",
       "    </tr>\n",
       "    <tr>\n",
       "      <th>4</th>\n",
       "      <td>1465</td>\n",
       "      <td>197140.822336</td>\n",
       "    </tr>\n",
       "  </tbody>\n",
       "</table>\n",
       "</div>"
      ],
      "text/plain": [
       "     Id      SalePrice\n",
       "0  1461  129330.422500\n",
       "1  1462  159727.943250\n",
       "2  1463  173488.318530\n",
       "3  1464  180255.467416\n",
       "4  1465  197140.822336"
      ]
     },
     "execution_count": 282,
     "metadata": {},
     "output_type": "execute_result"
    }
   ],
   "source": [
    "forest_pred=np.exp(best_forest_model.predict(X_TEST))\n",
    "kaggle_forest_df=pd.DataFrame({'Id':test_ID,'SalePrice':forest_pred})\n",
    "kaggle_forest_df.to_csv('kaggle_forest_df.csv',index=None)\n",
    "kaggle_forest_df.head()"
   ]
  },
  {
   "cell_type": "markdown",
   "metadata": {},
   "source": [
    "<p><a name=\"kaggle_gboost\"></a></p>\n",
    "### Best Model Gradient Boosting"
   ]
  },
  {
   "cell_type": "code",
   "execution_count": 333,
   "metadata": {},
   "outputs": [
    {
     "data": {
      "text/html": [
       "<div>\n",
       "<style>\n",
       "    .dataframe thead tr:only-child th {\n",
       "        text-align: right;\n",
       "    }\n",
       "\n",
       "    .dataframe thead th {\n",
       "        text-align: left;\n",
       "    }\n",
       "\n",
       "    .dataframe tbody tr th {\n",
       "        vertical-align: top;\n",
       "    }\n",
       "</style>\n",
       "<table border=\"1\" class=\"dataframe\">\n",
       "  <thead>\n",
       "    <tr style=\"text-align: right;\">\n",
       "      <th></th>\n",
       "      <th>Id</th>\n",
       "      <th>SalePrice</th>\n",
       "    </tr>\n",
       "  </thead>\n",
       "  <tbody>\n",
       "    <tr>\n",
       "      <th>0</th>\n",
       "      <td>1461</td>\n",
       "      <td>126637.017226</td>\n",
       "    </tr>\n",
       "    <tr>\n",
       "      <th>1</th>\n",
       "      <td>1462</td>\n",
       "      <td>149549.262990</td>\n",
       "    </tr>\n",
       "    <tr>\n",
       "      <th>2</th>\n",
       "      <td>1463</td>\n",
       "      <td>188220.646032</td>\n",
       "    </tr>\n",
       "    <tr>\n",
       "      <th>3</th>\n",
       "      <td>1464</td>\n",
       "      <td>197097.401713</td>\n",
       "    </tr>\n",
       "    <tr>\n",
       "      <th>4</th>\n",
       "      <td>1465</td>\n",
       "      <td>195939.259603</td>\n",
       "    </tr>\n",
       "  </tbody>\n",
       "</table>\n",
       "</div>"
      ],
      "text/plain": [
       "     Id      SalePrice\n",
       "0  1461  126637.017226\n",
       "1  1462  149549.262990\n",
       "2  1463  188220.646032\n",
       "3  1464  197097.401713\n",
       "4  1465  195939.259603"
      ]
     },
     "execution_count": 333,
     "metadata": {},
     "output_type": "execute_result"
    }
   ],
   "source": [
    "gboost_pred=np.exp(best_gboost_model.predict(X_TEST))\n",
    "kaggle_gboost_df=pd.DataFrame({'Id':test_ID,'SalePrice':gboost_pred})\n",
    "kaggle_gboost_df.to_csv('kaggle_gboost_df.csv',index=None)\n",
    "kaggle_gboost_df.head()\n"
   ]
  },
  {
   "cell_type": "markdown",
   "metadata": {},
   "source": [
    "<p><a name=\"kaggle_result\"></a></p>\n",
    "### Kaggle RMSLE"
   ]
  },
  {
   "cell_type": "code",
   "execution_count": 334,
   "metadata": {
    "collapsed": true
   },
   "outputs": [],
   "source": [
    "kaggle_trees_rmsle=0.20357\n",
    "kaggle_forest_rmsle=0.14885\n",
    "kaggle_gboost_rmsle=0.13338"
   ]
  },
  {
   "cell_type": "code",
   "execution_count": null,
   "metadata": {
    "collapsed": true
   },
   "outputs": [],
   "source": []
  }
 ],
 "metadata": {
  "kernelspec": {
   "display_name": "Python 3",
   "language": "python",
   "name": "python3"
  },
  "language_info": {
   "codemirror_mode": {
    "name": "ipython",
    "version": 3
   },
   "file_extension": ".py",
   "mimetype": "text/x-python",
   "name": "python",
   "nbconvert_exporter": "python",
   "pygments_lexer": "ipython3",
   "version": "3.5.3"
  }
 },
 "nbformat": 4,
 "nbformat_minor": 2
}
